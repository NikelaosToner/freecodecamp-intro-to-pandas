{
 "cells": [
  {
   "cell_type": "code",
   "execution_count": 1,
   "id": "f654434a",
   "metadata": {},
   "outputs": [],
   "source": [
    "import numpy as np\n",
    "import pandas as pd"
   ]
  },
  {
   "cell_type": "code",
   "execution_count": 2,
   "id": "a2d628fa",
   "metadata": {},
   "outputs": [
    {
     "data": {
      "text/plain": [
       "134000"
      ]
     },
     "execution_count": 2,
     "metadata": {},
     "output_type": "execute_result"
    }
   ],
   "source": [
    "ventas = np.array([3000, 2000, 1600, 1400, 9000, 6000, 3500, 1000, 600, 200, 1200, 9000, \n",
    "                  400, 5200, 6400, 2000, 8400, 29500, 1800, 600, 700, 500, 1400, 23000, \n",
    "                  3600, 3200, 700, 400, 1700, 200, 800, 5000])\n",
    "ventas.sum()"
   ]
  },
  {
   "cell_type": "code",
   "execution_count": 3,
   "id": "c4e6a476",
   "metadata": {},
   "outputs": [],
   "source": [
    "soc = pd.Series(np.array((1398,25.67,11.33,7.169,96.46,7900)))"
   ]
  },
  {
   "cell_type": "code",
   "execution_count": 4,
   "id": "b6375ea1",
   "metadata": {},
   "outputs": [
    {
     "name": "stdout",
     "output_type": "stream",
     "text": [
      "0    1398.000\n",
      "1      25.670\n",
      "2      11.330\n",
      "3       7.169\n",
      "4      96.460\n",
      "5    7900.000\n",
      "dtype: float64\n"
     ]
    }
   ],
   "source": [
    "print(soc)"
   ]
  },
  {
   "cell_type": "code",
   "execution_count": 6,
   "id": "761172f7",
   "metadata": {},
   "outputs": [
    {
     "data": {
      "text/plain": [
       "0    1398.000\n",
       "1      25.670\n",
       "2      11.330\n",
       "3       7.169\n",
       "4      96.460\n",
       "5    7900.000\n",
       "Name: Socialist countries in millions, dtype: float64"
      ]
     },
     "execution_count": 6,
     "metadata": {},
     "output_type": "execute_result"
    }
   ],
   "source": [
    "soc.name = 'Socialist countries in millions'\n",
    "soc"
   ]
  },
  {
   "cell_type": "code",
   "execution_count": 7,
   "id": "c452ef30",
   "metadata": {},
   "outputs": [
    {
     "data": {
      "text/plain": [
       "dtype('float64')"
      ]
     },
     "execution_count": 7,
     "metadata": {},
     "output_type": "execute_result"
    }
   ],
   "source": [
    "soc.dtype"
   ]
  },
  {
   "cell_type": "code",
   "execution_count": 8,
   "id": "a5a11cfd",
   "metadata": {},
   "outputs": [
    {
     "name": "stdout",
     "output_type": "stream",
     "text": [
      "RangeIndex(start=0, stop=6, step=1)\n",
      "[1.398e+03 2.567e+01 1.133e+01 7.169e+00 9.646e+01 7.900e+03]\n"
     ]
    }
   ],
   "source": [
    "print(soc.index)\n",
    "print(soc.values)"
   ]
  },
  {
   "cell_type": "code",
   "execution_count": 9,
   "id": "69c6eeec",
   "metadata": {},
   "outputs": [
    {
     "data": {
      "text/plain": [
       "pandas.core.indexes.range.RangeIndex"
      ]
     },
     "execution_count": 9,
     "metadata": {},
     "output_type": "execute_result"
    }
   ],
   "source": [
    "type(soc.index)"
   ]
  },
  {
   "cell_type": "code",
   "execution_count": 11,
   "id": "1f3060bd",
   "metadata": {},
   "outputs": [
    {
     "data": {
      "text/plain": [
       "numpy.ndarray"
      ]
     },
     "execution_count": 11,
     "metadata": {},
     "output_type": "execute_result"
    }
   ],
   "source": [
    "type(soc.values)"
   ]
  },
  {
   "cell_type": "code",
   "execution_count": 13,
   "id": "3fd1d26e",
   "metadata": {},
   "outputs": [],
   "source": [
    "contry_names = np.array(['China', 'NorthKorea', 'Cuba', 'Laos', 'Vietnam', 'World'])"
   ]
  },
  {
   "cell_type": "code",
   "execution_count": 15,
   "id": "12fb1f96",
   "metadata": {},
   "outputs": [
    {
     "data": {
      "text/plain": [
       "240"
      ]
     },
     "execution_count": 15,
     "metadata": {},
     "output_type": "execute_result"
    }
   ],
   "source": [
    "contry_names.nbytes"
   ]
  },
  {
   "cell_type": "code",
   "execution_count": 17,
   "id": "e116a35f",
   "metadata": {},
   "outputs": [],
   "source": [
    "country_names = np.copy(contry_names)"
   ]
  },
  {
   "cell_type": "code",
   "execution_count": 18,
   "id": "ae295b87",
   "metadata": {},
   "outputs": [
    {
     "data": {
      "text/plain": [
       "40"
      ]
     },
     "execution_count": 18,
     "metadata": {},
     "output_type": "execute_result"
    }
   ],
   "source": [
    "country_names.itemsize"
   ]
  },
  {
   "cell_type": "code",
   "execution_count": 20,
   "id": "b2eabad3",
   "metadata": {},
   "outputs": [
    {
     "name": "stdout",
     "output_type": "stream",
     "text": [
      "China         1398.000\n",
      "NorthKorea      25.670\n",
      "Cuba            11.330\n",
      "Laos             7.169\n",
      "Vietnam         96.460\n",
      "World         7900.000\n",
      "Name: Socialist countries in millions, dtype: float64\n"
     ]
    }
   ],
   "source": [
    "soc.index = country_names\n",
    "print(soc)"
   ]
  },
  {
   "cell_type": "code",
   "execution_count": 23,
   "id": "32d7706e",
   "metadata": {},
   "outputs": [],
   "source": [
    "socgdp = pd.Series({'China': 143400,\n",
    "                    'NorthKorea': 28.5,\n",
    "                    'Cuba': 100,\n",
    "                    'Laos': 18.17,\n",
    "                    'Vietnam': 261.9,\n",
    "                    'World': 83844}, name = 'Socialist countries total gdp in billions')"
   ]
  },
  {
   "cell_type": "code",
   "execution_count": 24,
   "id": "f6921c9d",
   "metadata": {},
   "outputs": [],
   "source": [
    "socarmy = pd.Series([2.81, 1.280, 0.05, 0.03, 0.484, 20.5], \n",
    "                    index = ['China', 'NorthKorea', 'Cuba', 'Laos', 'Vietnam', 'World'],\n",
    "                   name = 'Socialist countries army in millions')"
   ]
  },
  {
   "cell_type": "code",
   "execution_count": 25,
   "id": "94eca360",
   "metadata": {},
   "outputs": [
    {
     "name": "stdout",
     "output_type": "stream",
     "text": [
      "2.81 143400.0 1398.0\n"
     ]
    }
   ],
   "source": [
    "print(socarmy['China'], socgdp['China'], soc['China'])"
   ]
  },
  {
   "cell_type": "code",
   "execution_count": 27,
   "id": "ddb69a7b",
   "metadata": {},
   "outputs": [
    {
     "name": "stdout",
     "output_type": "stream",
     "text": [
      "2.81 143400.0 1398.0\n"
     ]
    }
   ],
   "source": [
    "print(socarmy[0], socgdp[0], soc[0])"
   ]
  },
  {
   "cell_type": "code",
   "execution_count": 28,
   "id": "373b77d2",
   "metadata": {},
   "outputs": [
    {
     "data": {
      "text/plain": [
       "China    1398.00\n",
       "Cuba       11.33\n",
       "Name: Socialist countries in millions, dtype: float64"
      ]
     },
     "execution_count": 28,
     "metadata": {},
     "output_type": "execute_result"
    }
   ],
   "source": [
    "soc[['China', 'Cuba']]"
   ]
  },
  {
   "cell_type": "code",
   "execution_count": 30,
   "id": "b6e11dfc",
   "metadata": {},
   "outputs": [
    {
     "data": {
      "text/plain": [
       "China    1398.00\n",
       "Cuba       11.33\n",
       "Name: Socialist countries in millions, dtype: float64"
      ]
     },
     "execution_count": 30,
     "metadata": {},
     "output_type": "execute_result"
    }
   ],
   "source": [
    "soc[[0,2]]"
   ]
  },
  {
   "cell_type": "code",
   "execution_count": 32,
   "id": "21529a19",
   "metadata": {},
   "outputs": [
    {
     "data": {
      "text/plain": [
       "China         1398.000\n",
       "NorthKorea      25.670\n",
       "Cuba            11.330\n",
       "Laos             7.169\n",
       "Vietnam         96.460\n",
       "Name: Socialist countries in millions, dtype: float64"
      ]
     },
     "execution_count": 32,
     "metadata": {},
     "output_type": "execute_result"
    }
   ],
   "source": [
    "soc['China':'Vietnam']"
   ]
  },
  {
   "cell_type": "code",
   "execution_count": 39,
   "id": "b3309ceb",
   "metadata": {},
   "outputs": [
    {
     "data": {
      "text/plain": [
       "China         10.257511\n",
       "NorthKorea     1.110245\n",
       "Cuba           8.826125\n",
       "Laos           2.534524\n",
       "Vietnam        2.715115\n",
       "World         10.613165\n",
       "dtype: float64"
      ]
     },
     "execution_count": 39,
     "metadata": {},
     "output_type": "execute_result"
    }
   ],
   "source": [
    "socgdp['China'] /= 10\n",
    "socgdppc = pd.Series(socgdp/soc)\n",
    "socgdppc"
   ]
  },
  {
   "cell_type": "code",
   "execution_count": 40,
   "id": "a6db0f06",
   "metadata": {},
   "outputs": [
    {
     "name": "stdout",
     "output_type": "stream",
     "text": [
      "China         1398.000\n",
      "NorthKorea      25.670\n",
      "Cuba            11.330\n",
      "Laos             7.169\n",
      "Vietnam         96.460\n",
      "World         7900.000\n",
      "Name: Socialist countries in millions, dtype: float64\n",
      "China         14340.00\n",
      "NorthKorea       28.50\n",
      "Cuba            100.00\n",
      "Laos             18.17\n",
      "Vietnam         261.90\n",
      "World         83844.00\n",
      "Name: Socialist countries total gdp in billions, dtype: float64\n",
      "China         10.257511\n",
      "NorthKorea     1.110245\n",
      "Cuba           8.826125\n",
      "Laos           2.534524\n",
      "Vietnam        2.715115\n",
      "World         10.613165\n",
      "dtype: float64\n"
     ]
    }
   ],
   "source": [
    "print(soc)\n",
    "print(socgdp)\n",
    "print(socgdppc)"
   ]
  },
  {
   "cell_type": "code",
   "execution_count": 41,
   "id": "267218c1",
   "metadata": {},
   "outputs": [
    {
     "data": {
      "text/plain": [
       "China          True\n",
       "NorthKorea    False\n",
       "Cuba           True\n",
       "Laos          False\n",
       "Vietnam       False\n",
       "World          True\n",
       "dtype: bool"
      ]
     },
     "execution_count": 41,
     "metadata": {},
     "output_type": "execute_result"
    }
   ],
   "source": [
    "socgdppc > 3"
   ]
  },
  {
   "cell_type": "code",
   "execution_count": 42,
   "id": "cd933c6e",
   "metadata": {},
   "outputs": [
    {
     "data": {
      "text/plain": [
       "China    10.257511\n",
       "Cuba      8.826125\n",
       "World    10.613165\n",
       "dtype: float64"
      ]
     },
     "execution_count": 42,
     "metadata": {},
     "output_type": "execute_result"
    }
   ],
   "source": [
    "socgdppc[socgdppc > 3]"
   ]
  },
  {
   "cell_type": "code",
   "execution_count": 43,
   "id": "8986048f",
   "metadata": {},
   "outputs": [
    {
     "data": {
      "text/plain": [
       "5.088704040067275"
      ]
     },
     "execution_count": 43,
     "metadata": {},
     "output_type": "execute_result"
    }
   ],
   "source": [
    "socgdppc['China':'Vietnam'].mean()"
   ]
  },
  {
   "cell_type": "code",
   "execution_count": 47,
   "id": "e1e16709",
   "metadata": {},
   "outputs": [
    {
     "data": {
      "text/plain": [
       "Cuba    8.826125\n",
       "Laos    2.534524\n",
       "dtype: float64"
      ]
     },
     "execution_count": 47,
     "metadata": {},
     "output_type": "execute_result"
    }
   ],
   "source": [
    "socgdppc[~((soc > 50) | (socarmy > 1))]"
   ]
  },
  {
   "cell_type": "code",
   "execution_count": 48,
   "id": "fa50b387",
   "metadata": {},
   "outputs": [
    {
     "data": {
      "text/plain": [
       "'Socialist countries in millions'"
      ]
     },
     "execution_count": 48,
     "metadata": {},
     "output_type": "execute_result"
    }
   ],
   "source": [
    "soc.name\n"
   ]
  },
  {
   "cell_type": "code",
   "execution_count": 52,
   "id": "6cb03831",
   "metadata": {},
   "outputs": [
    {
     "data": {
      "text/plain": [
       "China         1.398000e+09\n",
       "NorthKorea    2.567000e+07\n",
       "Cuba          1.133000e+07\n",
       "Laos          7.169000e+06\n",
       "Vietnam       9.646000e+07\n",
       "World         7.900000e+09\n",
       "Name: Socialist countries in millions, dtype: float64"
      ]
     },
     "execution_count": 52,
     "metadata": {},
     "output_type": "execute_result"
    }
   ],
   "source": [
    "soc*1000000"
   ]
  },
  {
   "cell_type": "code",
   "execution_count": 53,
   "id": "34df9c49",
   "metadata": {},
   "outputs": [
    {
     "data": {
      "text/plain": [
       "China         2.328010\n",
       "NorthKorea    0.104581\n",
       "Cuba          2.177716\n",
       "Laos          0.930006\n",
       "Vietnam       0.998834\n",
       "World         2.362095\n",
       "dtype: float64"
      ]
     },
     "execution_count": 53,
     "metadata": {},
     "output_type": "execute_result"
    }
   ],
   "source": [
    "np.log(socgdppc)"
   ]
  },
  {
   "cell_type": "code",
   "execution_count": null,
   "id": "4f62d354",
   "metadata": {},
   "outputs": [],
   "source": []
  }
 ],
 "metadata": {
  "kernelspec": {
   "display_name": "Python 3",
   "language": "python",
   "name": "python3"
  },
  "language_info": {
   "codemirror_mode": {
    "name": "ipython",
    "version": 3
   },
   "file_extension": ".py",
   "mimetype": "text/x-python",
   "name": "python",
   "nbconvert_exporter": "python",
   "pygments_lexer": "ipython3",
   "version": "3.9.5"
  }
 },
 "nbformat": 4,
 "nbformat_minor": 5
}
