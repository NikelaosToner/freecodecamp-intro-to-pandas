{
 "cells": [
  {
   "cell_type": "code",
   "execution_count": 1,
   "id": "f654434a",
   "metadata": {},
   "outputs": [],
   "source": [
    "import numpy as np\n",
    "import pandas as pd"
   ]
  },
  {
   "cell_type": "code",
   "execution_count": 2,
   "id": "a2d628fa",
   "metadata": {},
   "outputs": [
    {
     "data": {
      "text/plain": [
       "134000"
      ]
     },
     "execution_count": 2,
     "metadata": {},
     "output_type": "execute_result"
    }
   ],
   "source": [
    "ventas = np.array([3000, 2000, 1600, 1400, 9000, 6000, 3500, 1000, 600, 200, 1200, 9000, \n",
    "                  400, 5200, 6400, 2000, 8400, 29500, 1800, 600, 700, 500, 1400, 23000, \n",
    "                  3600, 3200, 700, 400, 1700, 200, 800, 5000])\n",
    "ventas.sum()"
   ]
  },
  {
   "cell_type": "markdown",
   "id": "7336125c",
   "metadata": {},
   "source": [
    "# Series"
   ]
  },
  {
   "cell_type": "code",
   "execution_count": 3,
   "id": "c4e6a476",
   "metadata": {},
   "outputs": [],
   "source": [
    "soc = pd.Series(np.array((1398,25.67,11.33,7.169,96.46,7900)))"
   ]
  },
  {
   "cell_type": "code",
   "execution_count": 4,
   "id": "b6375ea1",
   "metadata": {},
   "outputs": [
    {
     "name": "stdout",
     "output_type": "stream",
     "text": [
      "0    1398.000\n",
      "1      25.670\n",
      "2      11.330\n",
      "3       7.169\n",
      "4      96.460\n",
      "5    7900.000\n",
      "dtype: float64\n"
     ]
    }
   ],
   "source": [
    "print(soc)"
   ]
  },
  {
   "cell_type": "code",
   "execution_count": 5,
   "id": "761172f7",
   "metadata": {},
   "outputs": [
    {
     "data": {
      "text/plain": [
       "0    1398.000\n",
       "1      25.670\n",
       "2      11.330\n",
       "3       7.169\n",
       "4      96.460\n",
       "5    7900.000\n",
       "Name: Socialist countries in millions, dtype: float64"
      ]
     },
     "execution_count": 5,
     "metadata": {},
     "output_type": "execute_result"
    }
   ],
   "source": [
    "soc.name = 'Socialist countries in millions'\n",
    "soc"
   ]
  },
  {
   "cell_type": "code",
   "execution_count": 6,
   "id": "c452ef30",
   "metadata": {},
   "outputs": [
    {
     "data": {
      "text/plain": [
       "dtype('float64')"
      ]
     },
     "execution_count": 6,
     "metadata": {},
     "output_type": "execute_result"
    }
   ],
   "source": [
    "soc.dtype"
   ]
  },
  {
   "cell_type": "code",
   "execution_count": 7,
   "id": "a5a11cfd",
   "metadata": {},
   "outputs": [
    {
     "name": "stdout",
     "output_type": "stream",
     "text": [
      "RangeIndex(start=0, stop=6, step=1)\n",
      "[1.398e+03 2.567e+01 1.133e+01 7.169e+00 9.646e+01 7.900e+03]\n"
     ]
    }
   ],
   "source": [
    "print(soc.index)\n",
    "print(soc.values)"
   ]
  },
  {
   "cell_type": "code",
   "execution_count": 8,
   "id": "69c6eeec",
   "metadata": {},
   "outputs": [
    {
     "data": {
      "text/plain": [
       "pandas.core.indexes.range.RangeIndex"
      ]
     },
     "execution_count": 8,
     "metadata": {},
     "output_type": "execute_result"
    }
   ],
   "source": [
    "type(soc.index)"
   ]
  },
  {
   "cell_type": "code",
   "execution_count": 9,
   "id": "1f3060bd",
   "metadata": {},
   "outputs": [
    {
     "data": {
      "text/plain": [
       "numpy.ndarray"
      ]
     },
     "execution_count": 9,
     "metadata": {},
     "output_type": "execute_result"
    }
   ],
   "source": [
    "type(soc.values)"
   ]
  },
  {
   "cell_type": "code",
   "execution_count": 10,
   "id": "3fd1d26e",
   "metadata": {},
   "outputs": [],
   "source": [
    "contry_names = np.array(['China', 'NorthKorea', 'Cuba', 'Laos', 'Vietnam', 'World'])"
   ]
  },
  {
   "cell_type": "code",
   "execution_count": 11,
   "id": "12fb1f96",
   "metadata": {},
   "outputs": [
    {
     "data": {
      "text/plain": [
       "240"
      ]
     },
     "execution_count": 11,
     "metadata": {},
     "output_type": "execute_result"
    }
   ],
   "source": [
    "contry_names.nbytes"
   ]
  },
  {
   "cell_type": "code",
   "execution_count": 12,
   "id": "e116a35f",
   "metadata": {},
   "outputs": [],
   "source": [
    "country_names = np.copy(contry_names)"
   ]
  },
  {
   "cell_type": "code",
   "execution_count": 13,
   "id": "ae295b87",
   "metadata": {},
   "outputs": [
    {
     "data": {
      "text/plain": [
       "40"
      ]
     },
     "execution_count": 13,
     "metadata": {},
     "output_type": "execute_result"
    }
   ],
   "source": [
    "country_names.itemsize"
   ]
  },
  {
   "cell_type": "code",
   "execution_count": 14,
   "id": "b2eabad3",
   "metadata": {},
   "outputs": [
    {
     "name": "stdout",
     "output_type": "stream",
     "text": [
      "China         1398.000\n",
      "NorthKorea      25.670\n",
      "Cuba            11.330\n",
      "Laos             7.169\n",
      "Vietnam         96.460\n",
      "World         7900.000\n",
      "Name: Socialist countries in millions, dtype: float64\n"
     ]
    }
   ],
   "source": [
    "soc.index = country_names\n",
    "print(soc)"
   ]
  },
  {
   "cell_type": "code",
   "execution_count": 15,
   "id": "32d7706e",
   "metadata": {},
   "outputs": [],
   "source": [
    "socgdp = pd.Series({'China': 143400,\n",
    "                    'NorthKorea': 28.5,\n",
    "                    'Cuba': 100,\n",
    "                    'Laos': 18.17,\n",
    "                    'Vietnam': 261.9,\n",
    "                    'World': 83844}, name = 'Socialist countries total gdp in billions')"
   ]
  },
  {
   "cell_type": "code",
   "execution_count": 58,
   "id": "f6921c9d",
   "metadata": {},
   "outputs": [],
   "source": [
    "socarmy = pd.Series([2.81, 1.280, 0.05, 0.03, 0.484, 20.5], \n",
    "                    index = ['China', 'NorthKorea', 'Cuba', 'Laos', 'Vietnam', 'World'],\n",
    "                   name = 'Socialist countries army in millions')"
   ]
  },
  {
   "cell_type": "code",
   "execution_count": 17,
   "id": "94eca360",
   "metadata": {},
   "outputs": [
    {
     "name": "stdout",
     "output_type": "stream",
     "text": [
      "2.81 143400.0 1398.0\n"
     ]
    }
   ],
   "source": [
    "print(socarmy['China'], socgdp['China'], soc['China'])"
   ]
  },
  {
   "cell_type": "code",
   "execution_count": 18,
   "id": "ddb69a7b",
   "metadata": {},
   "outputs": [
    {
     "name": "stdout",
     "output_type": "stream",
     "text": [
      "2.81 143400.0 1398.0\n"
     ]
    }
   ],
   "source": [
    "print(socarmy[0], socgdp[0], soc[0])"
   ]
  },
  {
   "cell_type": "code",
   "execution_count": 19,
   "id": "373b77d2",
   "metadata": {},
   "outputs": [
    {
     "data": {
      "text/plain": [
       "China    1398.00\n",
       "Cuba       11.33\n",
       "Name: Socialist countries in millions, dtype: float64"
      ]
     },
     "execution_count": 19,
     "metadata": {},
     "output_type": "execute_result"
    }
   ],
   "source": [
    "soc[['China', 'Cuba']]"
   ]
  },
  {
   "cell_type": "code",
   "execution_count": 20,
   "id": "b6e11dfc",
   "metadata": {},
   "outputs": [
    {
     "data": {
      "text/plain": [
       "China    1398.00\n",
       "Cuba       11.33\n",
       "Name: Socialist countries in millions, dtype: float64"
      ]
     },
     "execution_count": 20,
     "metadata": {},
     "output_type": "execute_result"
    }
   ],
   "source": [
    "soc[[0,2]]"
   ]
  },
  {
   "cell_type": "code",
   "execution_count": 21,
   "id": "21529a19",
   "metadata": {},
   "outputs": [
    {
     "data": {
      "text/plain": [
       "China         1398.000\n",
       "NorthKorea      25.670\n",
       "Cuba            11.330\n",
       "Laos             7.169\n",
       "Vietnam         96.460\n",
       "Name: Socialist countries in millions, dtype: float64"
      ]
     },
     "execution_count": 21,
     "metadata": {},
     "output_type": "execute_result"
    }
   ],
   "source": [
    "soc['China':'Vietnam']"
   ]
  },
  {
   "cell_type": "code",
   "execution_count": 22,
   "id": "b3309ceb",
   "metadata": {},
   "outputs": [
    {
     "data": {
      "text/plain": [
       "China         10.257511\n",
       "NorthKorea     1.110245\n",
       "Cuba           8.826125\n",
       "Laos           2.534524\n",
       "Vietnam        2.715115\n",
       "World         10.613165\n",
       "dtype: float64"
      ]
     },
     "execution_count": 22,
     "metadata": {},
     "output_type": "execute_result"
    }
   ],
   "source": [
    "socgdp['China'] /= 10\n",
    "socgdppc = pd.Series(socgdp/soc)\n",
    "socgdppc"
   ]
  },
  {
   "cell_type": "code",
   "execution_count": 23,
   "id": "a6db0f06",
   "metadata": {},
   "outputs": [
    {
     "name": "stdout",
     "output_type": "stream",
     "text": [
      "China         1398.000\n",
      "NorthKorea      25.670\n",
      "Cuba            11.330\n",
      "Laos             7.169\n",
      "Vietnam         96.460\n",
      "World         7900.000\n",
      "Name: Socialist countries in millions, dtype: float64\n",
      "China         14340.00\n",
      "NorthKorea       28.50\n",
      "Cuba            100.00\n",
      "Laos             18.17\n",
      "Vietnam         261.90\n",
      "World         83844.00\n",
      "Name: Socialist countries total gdp in billions, dtype: float64\n",
      "China         10.257511\n",
      "NorthKorea     1.110245\n",
      "Cuba           8.826125\n",
      "Laos           2.534524\n",
      "Vietnam        2.715115\n",
      "World         10.613165\n",
      "dtype: float64\n"
     ]
    }
   ],
   "source": [
    "print(soc)\n",
    "print(socgdp)\n",
    "print(socgdppc)"
   ]
  },
  {
   "cell_type": "code",
   "execution_count": 24,
   "id": "267218c1",
   "metadata": {},
   "outputs": [
    {
     "data": {
      "text/plain": [
       "China          True\n",
       "NorthKorea    False\n",
       "Cuba           True\n",
       "Laos          False\n",
       "Vietnam       False\n",
       "World          True\n",
       "dtype: bool"
      ]
     },
     "execution_count": 24,
     "metadata": {},
     "output_type": "execute_result"
    }
   ],
   "source": [
    "socgdppc > 3"
   ]
  },
  {
   "cell_type": "code",
   "execution_count": 25,
   "id": "cd933c6e",
   "metadata": {},
   "outputs": [
    {
     "data": {
      "text/plain": [
       "China    10.257511\n",
       "Cuba      8.826125\n",
       "World    10.613165\n",
       "dtype: float64"
      ]
     },
     "execution_count": 25,
     "metadata": {},
     "output_type": "execute_result"
    }
   ],
   "source": [
    "socgdppc[socgdppc > 3]"
   ]
  },
  {
   "cell_type": "code",
   "execution_count": 26,
   "id": "8986048f",
   "metadata": {},
   "outputs": [
    {
     "data": {
      "text/plain": [
       "5.088704040067275"
      ]
     },
     "execution_count": 26,
     "metadata": {},
     "output_type": "execute_result"
    }
   ],
   "source": [
    "socgdppc['China':'Vietnam'].mean()"
   ]
  },
  {
   "cell_type": "code",
   "execution_count": 27,
   "id": "e1e16709",
   "metadata": {},
   "outputs": [
    {
     "data": {
      "text/plain": [
       "Cuba    8.826125\n",
       "Laos    2.534524\n",
       "dtype: float64"
      ]
     },
     "execution_count": 27,
     "metadata": {},
     "output_type": "execute_result"
    }
   ],
   "source": [
    "socgdppc[~((soc > 50) | (socarmy > 1))]"
   ]
  },
  {
   "cell_type": "code",
   "execution_count": 28,
   "id": "fa50b387",
   "metadata": {},
   "outputs": [
    {
     "data": {
      "text/plain": [
       "'Socialist countries in millions'"
      ]
     },
     "execution_count": 28,
     "metadata": {},
     "output_type": "execute_result"
    }
   ],
   "source": [
    "soc.name\n"
   ]
  },
  {
   "cell_type": "code",
   "execution_count": 29,
   "id": "6cb03831",
   "metadata": {},
   "outputs": [
    {
     "data": {
      "text/plain": [
       "China         1.398000e+09\n",
       "NorthKorea    2.567000e+07\n",
       "Cuba          1.133000e+07\n",
       "Laos          7.169000e+06\n",
       "Vietnam       9.646000e+07\n",
       "World         7.900000e+09\n",
       "Name: Socialist countries in millions, dtype: float64"
      ]
     },
     "execution_count": 29,
     "metadata": {},
     "output_type": "execute_result"
    }
   ],
   "source": [
    "soc*1000000"
   ]
  },
  {
   "cell_type": "code",
   "execution_count": 30,
   "id": "34df9c49",
   "metadata": {},
   "outputs": [
    {
     "data": {
      "text/plain": [
       "China         2.328010\n",
       "NorthKorea    0.104581\n",
       "Cuba          2.177716\n",
       "Laos          0.930006\n",
       "Vietnam       0.998834\n",
       "World         2.362095\n",
       "dtype: float64"
      ]
     },
     "execution_count": 30,
     "metadata": {},
     "output_type": "execute_result"
    }
   ],
   "source": [
    "np.log(socgdppc)"
   ]
  },
  {
   "cell_type": "markdown",
   "id": "18291003",
   "metadata": {},
   "source": [
    "# DataFrames"
   ]
  },
  {
   "cell_type": "code",
   "execution_count": 218,
   "id": "d7023e1d",
   "metadata": {},
   "outputs": [
    {
     "name": "stdout",
     "output_type": "stream",
     "text": [
      "China         1398.000\n",
      "NorthKorea      25.670\n",
      "Cuba            11.330\n",
      "Laos             7.169\n",
      "Vietnam         96.460\n",
      "World         7900.000\n",
      "Name: Socialist countries in millions, dtype: float64\n",
      "China         14340.00\n",
      "NorthKorea       28.50\n",
      "Cuba            100.00\n",
      "Laos             18.17\n",
      "Vietnam         261.90\n",
      "World         83844.00\n",
      "Name: Socialist countries total gdp in billions, dtype: float64\n",
      "China         10.257511\n",
      "NorthKorea     1.110245\n",
      "Cuba           8.826125\n",
      "Laos           2.534524\n",
      "Vietnam        2.715115\n",
      "World         10.613165\n",
      "dtype: float64\n",
      "China          2.810\n",
      "NorthKorea     1.280\n",
      "Cuba           0.050\n",
      "Laos           0.030\n",
      "Vietnam        0.484\n",
      "World         20.500\n",
      "Name: Socialist countries army in millions, dtype: float64\n"
     ]
    }
   ],
   "source": [
    "print(soc)\n",
    "print(socgdp)\n",
    "print(socgdppc)\n",
    "print(socarmy)"
   ]
  },
  {
   "cell_type": "code",
   "execution_count": 219,
   "id": "9c810639",
   "metadata": {},
   "outputs": [],
   "source": [
    "soc_array = soc.to_numpy()\n",
    "socgdp_array = socgdp.to_numpy()\n",
    "socgdppc_array = socgdppc.to_numpy()\n",
    "socarmy_array = socarmy.to_numpy()"
   ]
  },
  {
   "cell_type": "code",
   "execution_count": 220,
   "id": "1eb4756b",
   "metadata": {},
   "outputs": [
    {
     "name": "stdout",
     "output_type": "stream",
     "text": [
      "                 China  NorthKorea        Cuba       Laos     Vietnam  \\\n",
      "soc        1398.000000   25.670000   11.330000   7.169000   96.460000   \n",
      "socgdp    14340.000000   28.500000  100.000000  18.170000  261.900000   \n",
      "socgdppc     10.257511    1.110245    8.826125   2.534524    2.715115   \n",
      "socarmy       2.810000    1.280000    0.050000   0.030000    0.484000   \n",
      "\n",
      "                 World  \n",
      "soc        7900.000000  \n",
      "socgdp    83844.000000  \n",
      "socgdppc     10.613165  \n",
      "socarmy      20.500000  \n"
     ]
    }
   ],
   "source": [
    "soc2arr = np.vstack([soc_array, socgdp_array, socgdppc_array, socarmy_array])\n",
    "socdf = pd.DataFrame(soc2arr, index = ['soc', 'socgdp', 'socgdppc', 'socarmy'], \n",
    "                     columns = soc.index)\n",
    "print(socdf)"
   ]
  },
  {
   "cell_type": "code",
   "execution_count": 221,
   "id": "101b8c8d",
   "metadata": {},
   "outputs": [],
   "source": [
    "socdf = socdf.T\n"
   ]
  },
  {
   "cell_type": "code",
   "execution_count": 222,
   "id": "b4e2a12f",
   "metadata": {},
   "outputs": [
    {
     "data": {
      "text/plain": [
       "pandas.core.frame.DataFrame"
      ]
     },
     "execution_count": 222,
     "metadata": {},
     "output_type": "execute_result"
    }
   ],
   "source": [
    "type(socdf)"
   ]
  },
  {
   "cell_type": "code",
   "execution_count": 223,
   "id": "8afb9b0b",
   "metadata": {},
   "outputs": [
    {
     "data": {
      "text/html": [
       "<div>\n",
       "<style scoped>\n",
       "    .dataframe tbody tr th:only-of-type {\n",
       "        vertical-align: middle;\n",
       "    }\n",
       "\n",
       "    .dataframe tbody tr th {\n",
       "        vertical-align: top;\n",
       "    }\n",
       "\n",
       "    .dataframe thead th {\n",
       "        text-align: right;\n",
       "    }\n",
       "</style>\n",
       "<table border=\"1\" class=\"dataframe\">\n",
       "  <thead>\n",
       "    <tr style=\"text-align: right;\">\n",
       "      <th></th>\n",
       "      <th>soc</th>\n",
       "      <th>socgdp</th>\n",
       "      <th>socgdppc</th>\n",
       "      <th>socarmy</th>\n",
       "    </tr>\n",
       "  </thead>\n",
       "  <tbody>\n",
       "    <tr>\n",
       "      <th>China</th>\n",
       "      <td>1398.000</td>\n",
       "      <td>14340.00</td>\n",
       "      <td>10.257511</td>\n",
       "      <td>2.810</td>\n",
       "    </tr>\n",
       "    <tr>\n",
       "      <th>NorthKorea</th>\n",
       "      <td>25.670</td>\n",
       "      <td>28.50</td>\n",
       "      <td>1.110245</td>\n",
       "      <td>1.280</td>\n",
       "    </tr>\n",
       "    <tr>\n",
       "      <th>Cuba</th>\n",
       "      <td>11.330</td>\n",
       "      <td>100.00</td>\n",
       "      <td>8.826125</td>\n",
       "      <td>0.050</td>\n",
       "    </tr>\n",
       "    <tr>\n",
       "      <th>Laos</th>\n",
       "      <td>7.169</td>\n",
       "      <td>18.17</td>\n",
       "      <td>2.534524</td>\n",
       "      <td>0.030</td>\n",
       "    </tr>\n",
       "    <tr>\n",
       "      <th>Vietnam</th>\n",
       "      <td>96.460</td>\n",
       "      <td>261.90</td>\n",
       "      <td>2.715115</td>\n",
       "      <td>0.484</td>\n",
       "    </tr>\n",
       "    <tr>\n",
       "      <th>World</th>\n",
       "      <td>7900.000</td>\n",
       "      <td>83844.00</td>\n",
       "      <td>10.613165</td>\n",
       "      <td>20.500</td>\n",
       "    </tr>\n",
       "  </tbody>\n",
       "</table>\n",
       "</div>"
      ],
      "text/plain": [
       "                 soc    socgdp   socgdppc  socarmy\n",
       "China       1398.000  14340.00  10.257511    2.810\n",
       "NorthKorea    25.670     28.50   1.110245    1.280\n",
       "Cuba          11.330    100.00   8.826125    0.050\n",
       "Laos           7.169     18.17   2.534524    0.030\n",
       "Vietnam       96.460    261.90   2.715115    0.484\n",
       "World       7900.000  83844.00  10.613165   20.500"
      ]
     },
     "execution_count": 223,
     "metadata": {},
     "output_type": "execute_result"
    }
   ],
   "source": [
    "socdf"
   ]
  },
  {
   "cell_type": "code",
   "execution_count": 224,
   "id": "4839e44f",
   "metadata": {},
   "outputs": [],
   "source": [
    "socdf.rename = f'Socialist Countries. {soc.name}. {socgdp.name}. {socgdppc.name}. {socarmy.name}'"
   ]
  },
  {
   "cell_type": "code",
   "execution_count": 225,
   "id": "6c725ca6",
   "metadata": {},
   "outputs": [
    {
     "data": {
      "text/plain": [
       "China         1398.000\n",
       "NorthKorea      25.670\n",
       "Cuba            11.330\n",
       "Laos             7.169\n",
       "Vietnam         96.460\n",
       "World         7900.000\n",
       "Name: soc, dtype: float64"
      ]
     },
     "execution_count": 225,
     "metadata": {},
     "output_type": "execute_result"
    }
   ],
   "source": [
    "socdf['soc']"
   ]
  },
  {
   "cell_type": "code",
   "execution_count": 226,
   "id": "a2709fec",
   "metadata": {},
   "outputs": [
    {
     "name": "stdout",
     "output_type": "stream",
     "text": [
      "Index(['soc', 'socgdp', 'socgdppc', 'socarmy'], dtype='object')\n",
      "\n",
      "Index(['China', 'NorthKorea', 'Cuba', 'Laos', 'Vietnam', 'World'], dtype='object')\n",
      "\n",
      "<class 'pandas.core.frame.DataFrame'>\n",
      "Index: 6 entries, China to World\n",
      "Data columns (total 4 columns):\n",
      " #   Column    Non-Null Count  Dtype  \n",
      "---  ------    --------------  -----  \n",
      " 0   soc       6 non-null      float64\n",
      " 1   socgdp    6 non-null      float64\n",
      " 2   socgdppc  6 non-null      float64\n",
      " 3   socarmy   6 non-null      float64\n",
      "dtypes: float64(4)\n",
      "memory usage: 412.0+ bytes\n",
      "None\n",
      "\n",
      "24\n",
      "\n",
      "(6, 4)\n",
      "\n"
     ]
    },
    {
     "data": {
      "text/html": [
       "<div>\n",
       "<style scoped>\n",
       "    .dataframe tbody tr th:only-of-type {\n",
       "        vertical-align: middle;\n",
       "    }\n",
       "\n",
       "    .dataframe tbody tr th {\n",
       "        vertical-align: top;\n",
       "    }\n",
       "\n",
       "    .dataframe thead th {\n",
       "        text-align: right;\n",
       "    }\n",
       "</style>\n",
       "<table border=\"1\" class=\"dataframe\">\n",
       "  <thead>\n",
       "    <tr style=\"text-align: right;\">\n",
       "      <th></th>\n",
       "      <th>soc</th>\n",
       "      <th>socgdp</th>\n",
       "      <th>socgdppc</th>\n",
       "      <th>socarmy</th>\n",
       "    </tr>\n",
       "  </thead>\n",
       "  <tbody>\n",
       "    <tr>\n",
       "      <th>count</th>\n",
       "      <td>6.000000</td>\n",
       "      <td>6.000000</td>\n",
       "      <td>6.000000</td>\n",
       "      <td>6.000000</td>\n",
       "    </tr>\n",
       "    <tr>\n",
       "      <th>mean</th>\n",
       "      <td>1573.104833</td>\n",
       "      <td>16432.095000</td>\n",
       "      <td>6.009447</td>\n",
       "      <td>4.192333</td>\n",
       "    </tr>\n",
       "    <tr>\n",
       "      <th>std</th>\n",
       "      <td>3147.271655</td>\n",
       "      <td>33512.532562</td>\n",
       "      <td>4.338291</td>\n",
       "      <td>8.056900</td>\n",
       "    </tr>\n",
       "    <tr>\n",
       "      <th>min</th>\n",
       "      <td>7.169000</td>\n",
       "      <td>18.170000</td>\n",
       "      <td>1.110245</td>\n",
       "      <td>0.030000</td>\n",
       "    </tr>\n",
       "    <tr>\n",
       "      <th>25%</th>\n",
       "      <td>14.915000</td>\n",
       "      <td>46.375000</td>\n",
       "      <td>2.579672</td>\n",
       "      <td>0.158500</td>\n",
       "    </tr>\n",
       "    <tr>\n",
       "      <th>50%</th>\n",
       "      <td>61.065000</td>\n",
       "      <td>180.950000</td>\n",
       "      <td>5.770620</td>\n",
       "      <td>0.882000</td>\n",
       "    </tr>\n",
       "    <tr>\n",
       "      <th>75%</th>\n",
       "      <td>1072.615000</td>\n",
       "      <td>10820.475000</td>\n",
       "      <td>9.899664</td>\n",
       "      <td>2.427500</td>\n",
       "    </tr>\n",
       "    <tr>\n",
       "      <th>max</th>\n",
       "      <td>7900.000000</td>\n",
       "      <td>83844.000000</td>\n",
       "      <td>10.613165</td>\n",
       "      <td>20.500000</td>\n",
       "    </tr>\n",
       "  </tbody>\n",
       "</table>\n",
       "</div>"
      ],
      "text/plain": [
       "               soc        socgdp   socgdppc    socarmy\n",
       "count     6.000000      6.000000   6.000000   6.000000\n",
       "mean   1573.104833  16432.095000   6.009447   4.192333\n",
       "std    3147.271655  33512.532562   4.338291   8.056900\n",
       "min       7.169000     18.170000   1.110245   0.030000\n",
       "25%      14.915000     46.375000   2.579672   0.158500\n",
       "50%      61.065000    180.950000   5.770620   0.882000\n",
       "75%    1072.615000  10820.475000   9.899664   2.427500\n",
       "max    7900.000000  83844.000000  10.613165  20.500000"
      ]
     },
     "execution_count": 226,
     "metadata": {},
     "output_type": "execute_result"
    }
   ],
   "source": [
    "print(socdf.columns)\n",
    "print()\n",
    "print(socdf.index)\n",
    "print()\n",
    "print(socdf.info())\n",
    "print()\n",
    "print(socdf.size)\n",
    "print()\n",
    "print(socdf.shape)\n",
    "print()\n",
    "socdf.describe()"
   ]
  },
  {
   "cell_type": "code",
   "execution_count": 227,
   "id": "50d9bd55",
   "metadata": {},
   "outputs": [
    {
     "data": {
      "text/html": [
       "<div>\n",
       "<style scoped>\n",
       "    .dataframe tbody tr th:only-of-type {\n",
       "        vertical-align: middle;\n",
       "    }\n",
       "\n",
       "    .dataframe tbody tr th {\n",
       "        vertical-align: top;\n",
       "    }\n",
       "\n",
       "    .dataframe thead th {\n",
       "        text-align: right;\n",
       "    }\n",
       "</style>\n",
       "<table border=\"1\" class=\"dataframe\">\n",
       "  <thead>\n",
       "    <tr style=\"text-align: right;\">\n",
       "      <th></th>\n",
       "      <th>soc</th>\n",
       "      <th>socgdp</th>\n",
       "      <th>socgdppc</th>\n",
       "      <th>socarmy</th>\n",
       "    </tr>\n",
       "  </thead>\n",
       "  <tbody>\n",
       "    <tr>\n",
       "      <th>count</th>\n",
       "      <td>5.0</td>\n",
       "      <td>5.0</td>\n",
       "      <td>5.0</td>\n",
       "      <td>5.0</td>\n",
       "    </tr>\n",
       "    <tr>\n",
       "      <th>mean</th>\n",
       "      <td>308.0</td>\n",
       "      <td>2950.0</td>\n",
       "      <td>5.0</td>\n",
       "      <td>1.0</td>\n",
       "    </tr>\n",
       "    <tr>\n",
       "      <th>std</th>\n",
       "      <td>611.0</td>\n",
       "      <td>6368.0</td>\n",
       "      <td>4.0</td>\n",
       "      <td>1.0</td>\n",
       "    </tr>\n",
       "    <tr>\n",
       "      <th>min</th>\n",
       "      <td>7.0</td>\n",
       "      <td>18.0</td>\n",
       "      <td>1.0</td>\n",
       "      <td>0.0</td>\n",
       "    </tr>\n",
       "    <tr>\n",
       "      <th>25%</th>\n",
       "      <td>11.0</td>\n",
       "      <td>28.0</td>\n",
       "      <td>3.0</td>\n",
       "      <td>0.0</td>\n",
       "    </tr>\n",
       "    <tr>\n",
       "      <th>50%</th>\n",
       "      <td>26.0</td>\n",
       "      <td>100.0</td>\n",
       "      <td>3.0</td>\n",
       "      <td>0.0</td>\n",
       "    </tr>\n",
       "    <tr>\n",
       "      <th>75%</th>\n",
       "      <td>96.0</td>\n",
       "      <td>262.0</td>\n",
       "      <td>9.0</td>\n",
       "      <td>1.0</td>\n",
       "    </tr>\n",
       "    <tr>\n",
       "      <th>max</th>\n",
       "      <td>1398.0</td>\n",
       "      <td>14340.0</td>\n",
       "      <td>10.0</td>\n",
       "      <td>3.0</td>\n",
       "    </tr>\n",
       "  </tbody>\n",
       "</table>\n",
       "</div>"
      ],
      "text/plain": [
       "          soc   socgdp  socgdppc  socarmy\n",
       "count     5.0      5.0       5.0      5.0\n",
       "mean    308.0   2950.0       5.0      1.0\n",
       "std     611.0   6368.0       4.0      1.0\n",
       "min       7.0     18.0       1.0      0.0\n",
       "25%      11.0     28.0       3.0      0.0\n",
       "50%      26.0    100.0       3.0      0.0\n",
       "75%      96.0    262.0       9.0      1.0\n",
       "max    1398.0  14340.0      10.0      3.0"
      ]
     },
     "execution_count": 227,
     "metadata": {},
     "output_type": "execute_result"
    }
   ],
   "source": [
    "round(socdf.iloc[0:-1].describe())"
   ]
  },
  {
   "cell_type": "code",
   "execution_count": 228,
   "id": "3c7247ab",
   "metadata": {},
   "outputs": [
    {
     "data": {
      "text/plain": [
       "soc         float64\n",
       "socgdp      float64\n",
       "socgdppc    float64\n",
       "socarmy     float64\n",
       "dtype: object"
      ]
     },
     "execution_count": 228,
     "metadata": {},
     "output_type": "execute_result"
    }
   ],
   "source": [
    "socdf.dtypes\n"
   ]
  },
  {
   "cell_type": "code",
   "execution_count": 229,
   "id": "7a5d4d18",
   "metadata": {},
   "outputs": [
    {
     "data": {
      "text/plain": [
       "float64    4\n",
       "dtype: int64"
      ]
     },
     "execution_count": 229,
     "metadata": {},
     "output_type": "execute_result"
    }
   ],
   "source": [
    "socdf.dtypes.value_counts()"
   ]
  },
  {
   "cell_type": "code",
   "execution_count": 230,
   "id": "0c3cae4b",
   "metadata": {},
   "outputs": [
    {
     "data": {
      "text/html": [
       "<div>\n",
       "<style scoped>\n",
       "    .dataframe tbody tr th:only-of-type {\n",
       "        vertical-align: middle;\n",
       "    }\n",
       "\n",
       "    .dataframe tbody tr th {\n",
       "        vertical-align: top;\n",
       "    }\n",
       "\n",
       "    .dataframe thead th {\n",
       "        text-align: right;\n",
       "    }\n",
       "</style>\n",
       "<table border=\"1\" class=\"dataframe\">\n",
       "  <thead>\n",
       "    <tr style=\"text-align: right;\">\n",
       "      <th></th>\n",
       "      <th>NorthKorea</th>\n",
       "    </tr>\n",
       "  </thead>\n",
       "  <tbody>\n",
       "    <tr>\n",
       "      <th>soc</th>\n",
       "      <td>25.670000</td>\n",
       "    </tr>\n",
       "    <tr>\n",
       "      <th>socgdp</th>\n",
       "      <td>28.500000</td>\n",
       "    </tr>\n",
       "    <tr>\n",
       "      <th>socgdppc</th>\n",
       "      <td>1.110245</td>\n",
       "    </tr>\n",
       "    <tr>\n",
       "      <th>socarmy</th>\n",
       "      <td>1.280000</td>\n",
       "    </tr>\n",
       "  </tbody>\n",
       "</table>\n",
       "</div>"
      ],
      "text/plain": [
       "          NorthKorea\n",
       "soc        25.670000\n",
       "socgdp     28.500000\n",
       "socgdppc    1.110245\n",
       "socarmy     1.280000"
      ]
     },
     "execution_count": 230,
     "metadata": {},
     "output_type": "execute_result"
    }
   ],
   "source": [
    "socdf.loc['NorthKorea'].to_frame()"
   ]
  },
  {
   "cell_type": "code",
   "execution_count": 231,
   "id": "eef5f822",
   "metadata": {},
   "outputs": [
    {
     "data": {
      "text/html": [
       "<div>\n",
       "<style scoped>\n",
       "    .dataframe tbody tr th:only-of-type {\n",
       "        vertical-align: middle;\n",
       "    }\n",
       "\n",
       "    .dataframe tbody tr th {\n",
       "        vertical-align: top;\n",
       "    }\n",
       "\n",
       "    .dataframe thead th {\n",
       "        text-align: right;\n",
       "    }\n",
       "</style>\n",
       "<table border=\"1\" class=\"dataframe\">\n",
       "  <thead>\n",
       "    <tr style=\"text-align: right;\">\n",
       "      <th></th>\n",
       "      <th>NorthKorea</th>\n",
       "    </tr>\n",
       "  </thead>\n",
       "  <tbody>\n",
       "    <tr>\n",
       "      <th>soc</th>\n",
       "      <td>25.670000</td>\n",
       "    </tr>\n",
       "    <tr>\n",
       "      <th>socgdp</th>\n",
       "      <td>28.500000</td>\n",
       "    </tr>\n",
       "    <tr>\n",
       "      <th>socgdppc</th>\n",
       "      <td>1.110245</td>\n",
       "    </tr>\n",
       "    <tr>\n",
       "      <th>socarmy</th>\n",
       "      <td>1.280000</td>\n",
       "    </tr>\n",
       "  </tbody>\n",
       "</table>\n",
       "</div>"
      ],
      "text/plain": [
       "          NorthKorea\n",
       "soc        25.670000\n",
       "socgdp     28.500000\n",
       "socgdppc    1.110245\n",
       "socarmy     1.280000"
      ]
     },
     "execution_count": 231,
     "metadata": {},
     "output_type": "execute_result"
    }
   ],
   "source": [
    "socdf.iloc[1].to_frame()"
   ]
  },
  {
   "cell_type": "code",
   "execution_count": 232,
   "id": "a2e60bdc",
   "metadata": {},
   "outputs": [
    {
     "data": {
      "text/html": [
       "<div>\n",
       "<style scoped>\n",
       "    .dataframe tbody tr th:only-of-type {\n",
       "        vertical-align: middle;\n",
       "    }\n",
       "\n",
       "    .dataframe tbody tr th {\n",
       "        vertical-align: top;\n",
       "    }\n",
       "\n",
       "    .dataframe thead th {\n",
       "        text-align: right;\n",
       "    }\n",
       "</style>\n",
       "<table border=\"1\" class=\"dataframe\">\n",
       "  <thead>\n",
       "    <tr style=\"text-align: right;\">\n",
       "      <th></th>\n",
       "      <th>socarmy</th>\n",
       "    </tr>\n",
       "  </thead>\n",
       "  <tbody>\n",
       "    <tr>\n",
       "      <th>China</th>\n",
       "      <td>2.810</td>\n",
       "    </tr>\n",
       "    <tr>\n",
       "      <th>NorthKorea</th>\n",
       "      <td>1.280</td>\n",
       "    </tr>\n",
       "    <tr>\n",
       "      <th>Cuba</th>\n",
       "      <td>0.050</td>\n",
       "    </tr>\n",
       "    <tr>\n",
       "      <th>Laos</th>\n",
       "      <td>0.030</td>\n",
       "    </tr>\n",
       "    <tr>\n",
       "      <th>Vietnam</th>\n",
       "      <td>0.484</td>\n",
       "    </tr>\n",
       "    <tr>\n",
       "      <th>World</th>\n",
       "      <td>20.500</td>\n",
       "    </tr>\n",
       "  </tbody>\n",
       "</table>\n",
       "</div>"
      ],
      "text/plain": [
       "            socarmy\n",
       "China         2.810\n",
       "NorthKorea    1.280\n",
       "Cuba          0.050\n",
       "Laos          0.030\n",
       "Vietnam       0.484\n",
       "World        20.500"
      ]
     },
     "execution_count": 232,
     "metadata": {},
     "output_type": "execute_result"
    }
   ],
   "source": [
    "socdf['socarmy'].to_frame()"
   ]
  },
  {
   "cell_type": "code",
   "execution_count": 233,
   "id": "1a7c8cc5",
   "metadata": {},
   "outputs": [
    {
     "data": {
      "text/html": [
       "<div>\n",
       "<style scoped>\n",
       "    .dataframe tbody tr th:only-of-type {\n",
       "        vertical-align: middle;\n",
       "    }\n",
       "\n",
       "    .dataframe tbody tr th {\n",
       "        vertical-align: top;\n",
       "    }\n",
       "\n",
       "    .dataframe thead th {\n",
       "        text-align: right;\n",
       "    }\n",
       "</style>\n",
       "<table border=\"1\" class=\"dataframe\">\n",
       "  <thead>\n",
       "    <tr style=\"text-align: right;\">\n",
       "      <th></th>\n",
       "      <th>socarmy</th>\n",
       "    </tr>\n",
       "  </thead>\n",
       "  <tbody>\n",
       "    <tr>\n",
       "      <th>China</th>\n",
       "      <td>2.810</td>\n",
       "    </tr>\n",
       "    <tr>\n",
       "      <th>NorthKorea</th>\n",
       "      <td>1.280</td>\n",
       "    </tr>\n",
       "    <tr>\n",
       "      <th>Cuba</th>\n",
       "      <td>0.050</td>\n",
       "    </tr>\n",
       "    <tr>\n",
       "      <th>Laos</th>\n",
       "      <td>0.030</td>\n",
       "    </tr>\n",
       "    <tr>\n",
       "      <th>Vietnam</th>\n",
       "      <td>0.484</td>\n",
       "    </tr>\n",
       "    <tr>\n",
       "      <th>World</th>\n",
       "      <td>20.500</td>\n",
       "    </tr>\n",
       "  </tbody>\n",
       "</table>\n",
       "</div>"
      ],
      "text/plain": [
       "            socarmy\n",
       "China         2.810\n",
       "NorthKorea    1.280\n",
       "Cuba          0.050\n",
       "Laos          0.030\n",
       "Vietnam       0.484\n",
       "World        20.500"
      ]
     },
     "execution_count": 233,
     "metadata": {},
     "output_type": "execute_result"
    }
   ],
   "source": [
    "socdf['socarmy'].to_frame()"
   ]
  },
  {
   "cell_type": "code",
   "execution_count": 234,
   "id": "33047038",
   "metadata": {},
   "outputs": [
    {
     "data": {
      "text/html": [
       "<div>\n",
       "<style scoped>\n",
       "    .dataframe tbody tr th:only-of-type {\n",
       "        vertical-align: middle;\n",
       "    }\n",
       "\n",
       "    .dataframe tbody tr th {\n",
       "        vertical-align: top;\n",
       "    }\n",
       "\n",
       "    .dataframe thead th {\n",
       "        text-align: right;\n",
       "    }\n",
       "</style>\n",
       "<table border=\"1\" class=\"dataframe\">\n",
       "  <thead>\n",
       "    <tr style=\"text-align: right;\">\n",
       "      <th></th>\n",
       "      <th>socgdp</th>\n",
       "      <th>socgdppc</th>\n",
       "    </tr>\n",
       "  </thead>\n",
       "  <tbody>\n",
       "    <tr>\n",
       "      <th>China</th>\n",
       "      <td>14340.00</td>\n",
       "      <td>10.257511</td>\n",
       "    </tr>\n",
       "    <tr>\n",
       "      <th>NorthKorea</th>\n",
       "      <td>28.50</td>\n",
       "      <td>1.110245</td>\n",
       "    </tr>\n",
       "    <tr>\n",
       "      <th>Cuba</th>\n",
       "      <td>100.00</td>\n",
       "      <td>8.826125</td>\n",
       "    </tr>\n",
       "    <tr>\n",
       "      <th>Laos</th>\n",
       "      <td>18.17</td>\n",
       "      <td>2.534524</td>\n",
       "    </tr>\n",
       "    <tr>\n",
       "      <th>Vietnam</th>\n",
       "      <td>261.90</td>\n",
       "      <td>2.715115</td>\n",
       "    </tr>\n",
       "    <tr>\n",
       "      <th>World</th>\n",
       "      <td>83844.00</td>\n",
       "      <td>10.613165</td>\n",
       "    </tr>\n",
       "  </tbody>\n",
       "</table>\n",
       "</div>"
      ],
      "text/plain": [
       "              socgdp   socgdppc\n",
       "China       14340.00  10.257511\n",
       "NorthKorea     28.50   1.110245\n",
       "Cuba          100.00   8.826125\n",
       "Laos           18.17   2.534524\n",
       "Vietnam       261.90   2.715115\n",
       "World       83844.00  10.613165"
      ]
     },
     "execution_count": 234,
     "metadata": {},
     "output_type": "execute_result"
    }
   ],
   "source": [
    "socdf[['socgdp', 'socgdppc']]"
   ]
  },
  {
   "cell_type": "code",
   "execution_count": 235,
   "id": "2e5173c7",
   "metadata": {},
   "outputs": [
    {
     "data": {
      "text/html": [
       "<div>\n",
       "<style scoped>\n",
       "    .dataframe tbody tr th:only-of-type {\n",
       "        vertical-align: middle;\n",
       "    }\n",
       "\n",
       "    .dataframe tbody tr th {\n",
       "        vertical-align: top;\n",
       "    }\n",
       "\n",
       "    .dataframe thead th {\n",
       "        text-align: right;\n",
       "    }\n",
       "</style>\n",
       "<table border=\"1\" class=\"dataframe\">\n",
       "  <thead>\n",
       "    <tr style=\"text-align: right;\">\n",
       "      <th></th>\n",
       "      <th>soc</th>\n",
       "      <th>socgdp</th>\n",
       "      <th>socgdppc</th>\n",
       "      <th>socarmy</th>\n",
       "    </tr>\n",
       "  </thead>\n",
       "  <tbody>\n",
       "    <tr>\n",
       "      <th>Cuba</th>\n",
       "      <td>11.330</td>\n",
       "      <td>100.00</td>\n",
       "      <td>8.826125</td>\n",
       "      <td>0.050</td>\n",
       "    </tr>\n",
       "    <tr>\n",
       "      <th>Laos</th>\n",
       "      <td>7.169</td>\n",
       "      <td>18.17</td>\n",
       "      <td>2.534524</td>\n",
       "      <td>0.030</td>\n",
       "    </tr>\n",
       "    <tr>\n",
       "      <th>Vietnam</th>\n",
       "      <td>96.460</td>\n",
       "      <td>261.90</td>\n",
       "      <td>2.715115</td>\n",
       "      <td>0.484</td>\n",
       "    </tr>\n",
       "    <tr>\n",
       "      <th>World</th>\n",
       "      <td>7900.000</td>\n",
       "      <td>83844.00</td>\n",
       "      <td>10.613165</td>\n",
       "      <td>20.500</td>\n",
       "    </tr>\n",
       "  </tbody>\n",
       "</table>\n",
       "</div>"
      ],
      "text/plain": [
       "              soc    socgdp   socgdppc  socarmy\n",
       "Cuba       11.330    100.00   8.826125    0.050\n",
       "Laos        7.169     18.17   2.534524    0.030\n",
       "Vietnam    96.460    261.90   2.715115    0.484\n",
       "World    7900.000  83844.00  10.613165   20.500"
      ]
     },
     "execution_count": 235,
     "metadata": {},
     "output_type": "execute_result"
    }
   ],
   "source": [
    "# not recomended\n",
    "socdf[2:]"
   ]
  },
  {
   "cell_type": "code",
   "execution_count": 236,
   "id": "3c0d0ee9",
   "metadata": {},
   "outputs": [
    {
     "data": {
      "text/html": [
       "<div>\n",
       "<style scoped>\n",
       "    .dataframe tbody tr th:only-of-type {\n",
       "        vertical-align: middle;\n",
       "    }\n",
       "\n",
       "    .dataframe tbody tr th {\n",
       "        vertical-align: top;\n",
       "    }\n",
       "\n",
       "    .dataframe thead th {\n",
       "        text-align: right;\n",
       "    }\n",
       "</style>\n",
       "<table border=\"1\" class=\"dataframe\">\n",
       "  <thead>\n",
       "    <tr style=\"text-align: right;\">\n",
       "      <th></th>\n",
       "      <th>soc</th>\n",
       "      <th>socarmy</th>\n",
       "    </tr>\n",
       "  </thead>\n",
       "  <tbody>\n",
       "    <tr>\n",
       "      <th>NorthKorea</th>\n",
       "      <td>25.67</td>\n",
       "      <td>1.280</td>\n",
       "    </tr>\n",
       "    <tr>\n",
       "      <th>Vietnam</th>\n",
       "      <td>96.46</td>\n",
       "      <td>0.484</td>\n",
       "    </tr>\n",
       "  </tbody>\n",
       "</table>\n",
       "</div>"
      ],
      "text/plain": [
       "              soc  socarmy\n",
       "NorthKorea  25.67    1.280\n",
       "Vietnam     96.46    0.484"
      ]
     },
     "execution_count": 236,
     "metadata": {},
     "output_type": "execute_result"
    }
   ],
   "source": [
    "socdf.loc[['NorthKorea', 'Vietnam'], ['soc', 'socarmy']]"
   ]
  },
  {
   "cell_type": "code",
   "execution_count": 237,
   "id": "671ed0a3",
   "metadata": {},
   "outputs": [
    {
     "data": {
      "text/html": [
       "<div>\n",
       "<style scoped>\n",
       "    .dataframe tbody tr th:only-of-type {\n",
       "        vertical-align: middle;\n",
       "    }\n",
       "\n",
       "    .dataframe tbody tr th {\n",
       "        vertical-align: top;\n",
       "    }\n",
       "\n",
       "    .dataframe thead th {\n",
       "        text-align: right;\n",
       "    }\n",
       "</style>\n",
       "<table border=\"1\" class=\"dataframe\">\n",
       "  <thead>\n",
       "    <tr style=\"text-align: right;\">\n",
       "      <th></th>\n",
       "      <th>socgdppc</th>\n",
       "      <th>socarmy</th>\n",
       "    </tr>\n",
       "  </thead>\n",
       "  <tbody>\n",
       "    <tr>\n",
       "      <th>China</th>\n",
       "      <td>10.257511</td>\n",
       "      <td>2.810</td>\n",
       "    </tr>\n",
       "    <tr>\n",
       "      <th>NorthKorea</th>\n",
       "      <td>1.110245</td>\n",
       "      <td>1.280</td>\n",
       "    </tr>\n",
       "    <tr>\n",
       "      <th>Cuba</th>\n",
       "      <td>8.826125</td>\n",
       "      <td>0.050</td>\n",
       "    </tr>\n",
       "    <tr>\n",
       "      <th>Laos</th>\n",
       "      <td>2.534524</td>\n",
       "      <td>0.030</td>\n",
       "    </tr>\n",
       "    <tr>\n",
       "      <th>Vietnam</th>\n",
       "      <td>2.715115</td>\n",
       "      <td>0.484</td>\n",
       "    </tr>\n",
       "    <tr>\n",
       "      <th>World</th>\n",
       "      <td>10.613165</td>\n",
       "      <td>20.500</td>\n",
       "    </tr>\n",
       "  </tbody>\n",
       "</table>\n",
       "</div>"
      ],
      "text/plain": [
       "             socgdppc  socarmy\n",
       "China       10.257511    2.810\n",
       "NorthKorea   1.110245    1.280\n",
       "Cuba         8.826125    0.050\n",
       "Laos         2.534524    0.030\n",
       "Vietnam      2.715115    0.484\n",
       "World       10.613165   20.500"
      ]
     },
     "execution_count": 237,
     "metadata": {},
     "output_type": "execute_result"
    }
   ],
   "source": [
    "socdf.iloc[:, 2:]"
   ]
  },
  {
   "cell_type": "code",
   "execution_count": 238,
   "id": "bedd3c20",
   "metadata": {},
   "outputs": [
    {
     "data": {
      "text/html": [
       "<div>\n",
       "<style scoped>\n",
       "    .dataframe tbody tr th:only-of-type {\n",
       "        vertical-align: middle;\n",
       "    }\n",
       "\n",
       "    .dataframe tbody tr th {\n",
       "        vertical-align: top;\n",
       "    }\n",
       "\n",
       "    .dataframe thead th {\n",
       "        text-align: right;\n",
       "    }\n",
       "</style>\n",
       "<table border=\"1\" class=\"dataframe\">\n",
       "  <thead>\n",
       "    <tr style=\"text-align: right;\">\n",
       "      <th></th>\n",
       "      <th>socarmy</th>\n",
       "      <th>socgdp</th>\n",
       "    </tr>\n",
       "  </thead>\n",
       "  <tbody>\n",
       "    <tr>\n",
       "      <th>World</th>\n",
       "      <td>20.500</td>\n",
       "      <td>83844.00</td>\n",
       "    </tr>\n",
       "    <tr>\n",
       "      <th>Vietnam</th>\n",
       "      <td>0.484</td>\n",
       "      <td>261.90</td>\n",
       "    </tr>\n",
       "    <tr>\n",
       "      <th>Laos</th>\n",
       "      <td>0.030</td>\n",
       "      <td>18.17</td>\n",
       "    </tr>\n",
       "    <tr>\n",
       "      <th>Cuba</th>\n",
       "      <td>0.050</td>\n",
       "      <td>100.00</td>\n",
       "    </tr>\n",
       "    <tr>\n",
       "      <th>NorthKorea</th>\n",
       "      <td>1.280</td>\n",
       "      <td>28.50</td>\n",
       "    </tr>\n",
       "    <tr>\n",
       "      <th>China</th>\n",
       "      <td>2.810</td>\n",
       "      <td>14340.00</td>\n",
       "    </tr>\n",
       "  </tbody>\n",
       "</table>\n",
       "</div>"
      ],
      "text/plain": [
       "            socarmy    socgdp\n",
       "World        20.500  83844.00\n",
       "Vietnam       0.484    261.90\n",
       "Laos          0.030     18.17\n",
       "Cuba          0.050    100.00\n",
       "NorthKorea    1.280     28.50\n",
       "China         2.810  14340.00"
      ]
     },
     "execution_count": 238,
     "metadata": {},
     "output_type": "execute_result"
    }
   ],
   "source": [
    "socdf.iloc[::-1, ::-2]"
   ]
  },
  {
   "cell_type": "code",
   "execution_count": 239,
   "id": "e6750d96",
   "metadata": {},
   "outputs": [
    {
     "data": {
      "text/html": [
       "<div>\n",
       "<style scoped>\n",
       "    .dataframe tbody tr th:only-of-type {\n",
       "        vertical-align: middle;\n",
       "    }\n",
       "\n",
       "    .dataframe tbody tr th {\n",
       "        vertical-align: top;\n",
       "    }\n",
       "\n",
       "    .dataframe thead th {\n",
       "        text-align: right;\n",
       "    }\n",
       "</style>\n",
       "<table border=\"1\" class=\"dataframe\">\n",
       "  <thead>\n",
       "    <tr style=\"text-align: right;\">\n",
       "      <th></th>\n",
       "      <th>socgdp</th>\n",
       "      <th>socgdppc</th>\n",
       "      <th>socarmy</th>\n",
       "    </tr>\n",
       "  </thead>\n",
       "  <tbody>\n",
       "    <tr>\n",
       "      <th>NorthKorea</th>\n",
       "      <td>28.50</td>\n",
       "      <td>1.110245</td>\n",
       "      <td>1.28</td>\n",
       "    </tr>\n",
       "    <tr>\n",
       "      <th>Cuba</th>\n",
       "      <td>100.00</td>\n",
       "      <td>8.826125</td>\n",
       "      <td>0.05</td>\n",
       "    </tr>\n",
       "    <tr>\n",
       "      <th>Laos</th>\n",
       "      <td>18.17</td>\n",
       "      <td>2.534524</td>\n",
       "      <td>0.03</td>\n",
       "    </tr>\n",
       "  </tbody>\n",
       "</table>\n",
       "</div>"
      ],
      "text/plain": [
       "            socgdp  socgdppc  socarmy\n",
       "NorthKorea   28.50  1.110245     1.28\n",
       "Cuba        100.00  8.826125     0.05\n",
       "Laos         18.17  2.534524     0.03"
      ]
     },
     "execution_count": 239,
     "metadata": {},
     "output_type": "execute_result"
    }
   ],
   "source": [
    "socdf.iloc[[1,2,3], [1,2,3]]"
   ]
  },
  {
   "cell_type": "code",
   "execution_count": 240,
   "id": "e0078aec",
   "metadata": {},
   "outputs": [
    {
     "data": {
      "text/html": [
       "<div>\n",
       "<style scoped>\n",
       "    .dataframe tbody tr th:only-of-type {\n",
       "        vertical-align: middle;\n",
       "    }\n",
       "\n",
       "    .dataframe tbody tr th {\n",
       "        vertical-align: top;\n",
       "    }\n",
       "\n",
       "    .dataframe thead th {\n",
       "        text-align: right;\n",
       "    }\n",
       "</style>\n",
       "<table border=\"1\" class=\"dataframe\">\n",
       "  <thead>\n",
       "    <tr style=\"text-align: right;\">\n",
       "      <th></th>\n",
       "      <th>soc</th>\n",
       "      <th>socgdp</th>\n",
       "      <th>socgdppc</th>\n",
       "      <th>socarmy</th>\n",
       "    </tr>\n",
       "  </thead>\n",
       "  <tbody>\n",
       "    <tr>\n",
       "      <th>NorthKorea</th>\n",
       "      <td>25.670</td>\n",
       "      <td>28.50</td>\n",
       "      <td>1.110245</td>\n",
       "      <td>1.280</td>\n",
       "    </tr>\n",
       "    <tr>\n",
       "      <th>Cuba</th>\n",
       "      <td>11.330</td>\n",
       "      <td>100.00</td>\n",
       "      <td>8.826125</td>\n",
       "      <td>0.050</td>\n",
       "    </tr>\n",
       "    <tr>\n",
       "      <th>Laos</th>\n",
       "      <td>7.169</td>\n",
       "      <td>18.17</td>\n",
       "      <td>2.534524</td>\n",
       "      <td>0.030</td>\n",
       "    </tr>\n",
       "    <tr>\n",
       "      <th>Vietnam</th>\n",
       "      <td>96.460</td>\n",
       "      <td>261.90</td>\n",
       "      <td>2.715115</td>\n",
       "      <td>0.484</td>\n",
       "    </tr>\n",
       "  </tbody>\n",
       "</table>\n",
       "</div>"
      ],
      "text/plain": [
       "               soc  socgdp  socgdppc  socarmy\n",
       "NorthKorea  25.670   28.50  1.110245    1.280\n",
       "Cuba        11.330  100.00  8.826125    0.050\n",
       "Laos         7.169   18.17  2.534524    0.030\n",
       "Vietnam     96.460  261.90  2.715115    0.484"
      ]
     },
     "execution_count": 240,
     "metadata": {},
     "output_type": "execute_result"
    }
   ],
   "source": [
    "socdf.loc[~(soc > 100)]"
   ]
  },
  {
   "cell_type": "code",
   "execution_count": 241,
   "id": "e1d691dd",
   "metadata": {},
   "outputs": [],
   "source": [
    "socdf.loc[:,'socarmy%'] = pd.Series(socarmy/soc)"
   ]
  },
  {
   "cell_type": "code",
   "execution_count": 242,
   "id": "9ba308fa",
   "metadata": {},
   "outputs": [
    {
     "ename": "KeyError",
     "evalue": "\"['test'] not found in axis\"",
     "output_type": "error",
     "traceback": [
      "\u001b[0;31m---------------------------------------------------------------------------\u001b[0m",
      "\u001b[0;31mKeyError\u001b[0m                                  Traceback (most recent call last)",
      "\u001b[0;32m<ipython-input-242-2f49245b8937>\u001b[0m in \u001b[0;36m<module>\u001b[0;34m\u001b[0m\n\u001b[0;32m----> 1\u001b[0;31m \u001b[0msocdf\u001b[0m \u001b[0;34m=\u001b[0m \u001b[0msocdf\u001b[0m\u001b[0;34m.\u001b[0m\u001b[0mdrop\u001b[0m\u001b[0;34m(\u001b[0m\u001b[0mcolumns\u001b[0m \u001b[0;34m=\u001b[0m \u001b[0;34m'test'\u001b[0m\u001b[0;34m)\u001b[0m\u001b[0;34m\u001b[0m\u001b[0;34m\u001b[0m\u001b[0m\n\u001b[0m",
      "\u001b[0;32m~/Documents/freecodecamp/venv/lib/python3.9/site-packages/pandas/core/frame.py\u001b[0m in \u001b[0;36mdrop\u001b[0;34m(self, labels, axis, index, columns, level, inplace, errors)\u001b[0m\n\u001b[1;32m   4306\u001b[0m                 \u001b[0mweight\u001b[0m  \u001b[0;36m1.0\u001b[0m     \u001b[0;36m0.8\u001b[0m\u001b[0;34m\u001b[0m\u001b[0;34m\u001b[0m\u001b[0m\n\u001b[1;32m   4307\u001b[0m         \"\"\"\n\u001b[0;32m-> 4308\u001b[0;31m         return super().drop(\n\u001b[0m\u001b[1;32m   4309\u001b[0m             \u001b[0mlabels\u001b[0m\u001b[0;34m=\u001b[0m\u001b[0mlabels\u001b[0m\u001b[0;34m,\u001b[0m\u001b[0;34m\u001b[0m\u001b[0;34m\u001b[0m\u001b[0m\n\u001b[1;32m   4310\u001b[0m             \u001b[0maxis\u001b[0m\u001b[0;34m=\u001b[0m\u001b[0maxis\u001b[0m\u001b[0;34m,\u001b[0m\u001b[0;34m\u001b[0m\u001b[0;34m\u001b[0m\u001b[0m\n",
      "\u001b[0;32m~/Documents/freecodecamp/venv/lib/python3.9/site-packages/pandas/core/generic.py\u001b[0m in \u001b[0;36mdrop\u001b[0;34m(self, labels, axis, index, columns, level, inplace, errors)\u001b[0m\n\u001b[1;32m   4151\u001b[0m         \u001b[0;32mfor\u001b[0m \u001b[0maxis\u001b[0m\u001b[0;34m,\u001b[0m \u001b[0mlabels\u001b[0m \u001b[0;32min\u001b[0m \u001b[0maxes\u001b[0m\u001b[0;34m.\u001b[0m\u001b[0mitems\u001b[0m\u001b[0;34m(\u001b[0m\u001b[0;34m)\u001b[0m\u001b[0;34m:\u001b[0m\u001b[0;34m\u001b[0m\u001b[0;34m\u001b[0m\u001b[0m\n\u001b[1;32m   4152\u001b[0m             \u001b[0;32mif\u001b[0m \u001b[0mlabels\u001b[0m \u001b[0;32mis\u001b[0m \u001b[0;32mnot\u001b[0m \u001b[0;32mNone\u001b[0m\u001b[0;34m:\u001b[0m\u001b[0;34m\u001b[0m\u001b[0;34m\u001b[0m\u001b[0m\n\u001b[0;32m-> 4153\u001b[0;31m                 \u001b[0mobj\u001b[0m \u001b[0;34m=\u001b[0m \u001b[0mobj\u001b[0m\u001b[0;34m.\u001b[0m\u001b[0m_drop_axis\u001b[0m\u001b[0;34m(\u001b[0m\u001b[0mlabels\u001b[0m\u001b[0;34m,\u001b[0m \u001b[0maxis\u001b[0m\u001b[0;34m,\u001b[0m \u001b[0mlevel\u001b[0m\u001b[0;34m=\u001b[0m\u001b[0mlevel\u001b[0m\u001b[0;34m,\u001b[0m \u001b[0merrors\u001b[0m\u001b[0;34m=\u001b[0m\u001b[0merrors\u001b[0m\u001b[0;34m)\u001b[0m\u001b[0;34m\u001b[0m\u001b[0;34m\u001b[0m\u001b[0m\n\u001b[0m\u001b[1;32m   4154\u001b[0m \u001b[0;34m\u001b[0m\u001b[0m\n\u001b[1;32m   4155\u001b[0m         \u001b[0;32mif\u001b[0m \u001b[0minplace\u001b[0m\u001b[0;34m:\u001b[0m\u001b[0;34m\u001b[0m\u001b[0;34m\u001b[0m\u001b[0m\n",
      "\u001b[0;32m~/Documents/freecodecamp/venv/lib/python3.9/site-packages/pandas/core/generic.py\u001b[0m in \u001b[0;36m_drop_axis\u001b[0;34m(self, labels, axis, level, errors)\u001b[0m\n\u001b[1;32m   4186\u001b[0m                 \u001b[0mnew_axis\u001b[0m \u001b[0;34m=\u001b[0m \u001b[0maxis\u001b[0m\u001b[0;34m.\u001b[0m\u001b[0mdrop\u001b[0m\u001b[0;34m(\u001b[0m\u001b[0mlabels\u001b[0m\u001b[0;34m,\u001b[0m \u001b[0mlevel\u001b[0m\u001b[0;34m=\u001b[0m\u001b[0mlevel\u001b[0m\u001b[0;34m,\u001b[0m \u001b[0merrors\u001b[0m\u001b[0;34m=\u001b[0m\u001b[0merrors\u001b[0m\u001b[0;34m)\u001b[0m\u001b[0;34m\u001b[0m\u001b[0;34m\u001b[0m\u001b[0m\n\u001b[1;32m   4187\u001b[0m             \u001b[0;32melse\u001b[0m\u001b[0;34m:\u001b[0m\u001b[0;34m\u001b[0m\u001b[0;34m\u001b[0m\u001b[0m\n\u001b[0;32m-> 4188\u001b[0;31m                 \u001b[0mnew_axis\u001b[0m \u001b[0;34m=\u001b[0m \u001b[0maxis\u001b[0m\u001b[0;34m.\u001b[0m\u001b[0mdrop\u001b[0m\u001b[0;34m(\u001b[0m\u001b[0mlabels\u001b[0m\u001b[0;34m,\u001b[0m \u001b[0merrors\u001b[0m\u001b[0;34m=\u001b[0m\u001b[0merrors\u001b[0m\u001b[0;34m)\u001b[0m\u001b[0;34m\u001b[0m\u001b[0;34m\u001b[0m\u001b[0m\n\u001b[0m\u001b[1;32m   4189\u001b[0m             \u001b[0mresult\u001b[0m \u001b[0;34m=\u001b[0m \u001b[0mself\u001b[0m\u001b[0;34m.\u001b[0m\u001b[0mreindex\u001b[0m\u001b[0;34m(\u001b[0m\u001b[0;34m**\u001b[0m\u001b[0;34m{\u001b[0m\u001b[0maxis_name\u001b[0m\u001b[0;34m:\u001b[0m \u001b[0mnew_axis\u001b[0m\u001b[0;34m}\u001b[0m\u001b[0;34m)\u001b[0m\u001b[0;34m\u001b[0m\u001b[0;34m\u001b[0m\u001b[0m\n\u001b[1;32m   4190\u001b[0m \u001b[0;34m\u001b[0m\u001b[0m\n",
      "\u001b[0;32m~/Documents/freecodecamp/venv/lib/python3.9/site-packages/pandas/core/indexes/base.py\u001b[0m in \u001b[0;36mdrop\u001b[0;34m(self, labels, errors)\u001b[0m\n\u001b[1;32m   5589\u001b[0m         \u001b[0;32mif\u001b[0m \u001b[0mmask\u001b[0m\u001b[0;34m.\u001b[0m\u001b[0many\u001b[0m\u001b[0;34m(\u001b[0m\u001b[0;34m)\u001b[0m\u001b[0;34m:\u001b[0m\u001b[0;34m\u001b[0m\u001b[0;34m\u001b[0m\u001b[0m\n\u001b[1;32m   5590\u001b[0m             \u001b[0;32mif\u001b[0m \u001b[0merrors\u001b[0m \u001b[0;34m!=\u001b[0m \u001b[0;34m\"ignore\"\u001b[0m\u001b[0;34m:\u001b[0m\u001b[0;34m\u001b[0m\u001b[0;34m\u001b[0m\u001b[0m\n\u001b[0;32m-> 5591\u001b[0;31m                 \u001b[0;32mraise\u001b[0m \u001b[0mKeyError\u001b[0m\u001b[0;34m(\u001b[0m\u001b[0;34mf\"{labels[mask]} not found in axis\"\u001b[0m\u001b[0;34m)\u001b[0m\u001b[0;34m\u001b[0m\u001b[0;34m\u001b[0m\u001b[0m\n\u001b[0m\u001b[1;32m   5592\u001b[0m             \u001b[0mindexer\u001b[0m \u001b[0;34m=\u001b[0m \u001b[0mindexer\u001b[0m\u001b[0;34m[\u001b[0m\u001b[0;34m~\u001b[0m\u001b[0mmask\u001b[0m\u001b[0;34m]\u001b[0m\u001b[0;34m\u001b[0m\u001b[0;34m\u001b[0m\u001b[0m\n\u001b[1;32m   5593\u001b[0m         \u001b[0;32mreturn\u001b[0m \u001b[0mself\u001b[0m\u001b[0;34m.\u001b[0m\u001b[0mdelete\u001b[0m\u001b[0;34m(\u001b[0m\u001b[0mindexer\u001b[0m\u001b[0;34m)\u001b[0m\u001b[0;34m\u001b[0m\u001b[0;34m\u001b[0m\u001b[0m\n",
      "\u001b[0;31mKeyError\u001b[0m: \"['test'] not found in axis\""
     ]
    }
   ],
   "source": [
    "socdf = socdf.drop(columns = 'test')"
   ]
  },
  {
   "cell_type": "code",
   "execution_count": 243,
   "id": "b386c47c",
   "metadata": {},
   "outputs": [],
   "source": [
    "# socdf = socdf.drop(columns='socarmy%')\n",
    "# socdf = socdf.drop('Laos')\n",
    "# df.drop(['Italy', 'Canada'], axis=0)\n",
    "# df.drop(['Population', 'HDI'], axis=1)\n",
    "# df.drop(['Population', 'HDI'], axis='columns')\n",
    "# df.drop(['Italy', 'Canada'], axis = 'rows')"
   ]
  },
  {
   "cell_type": "code",
   "execution_count": 244,
   "id": "5fa2cc69",
   "metadata": {
    "scrolled": true
   },
   "outputs": [
    {
     "data": {
      "text/html": [
       "<div>\n",
       "<style scoped>\n",
       "    .dataframe tbody tr th:only-of-type {\n",
       "        vertical-align: middle;\n",
       "    }\n",
       "\n",
       "    .dataframe tbody tr th {\n",
       "        vertical-align: top;\n",
       "    }\n",
       "\n",
       "    .dataframe thead th {\n",
       "        text-align: right;\n",
       "    }\n",
       "</style>\n",
       "<table border=\"1\" class=\"dataframe\">\n",
       "  <thead>\n",
       "    <tr style=\"text-align: right;\">\n",
       "      <th></th>\n",
       "      <th>soc</th>\n",
       "      <th>socgdp</th>\n",
       "      <th>socgdppc</th>\n",
       "      <th>socarmy</th>\n",
       "      <th>socarmy%</th>\n",
       "    </tr>\n",
       "  </thead>\n",
       "  <tbody>\n",
       "    <tr>\n",
       "      <th>China</th>\n",
       "      <td>1398.000</td>\n",
       "      <td>14340.00</td>\n",
       "      <td>10.257511</td>\n",
       "      <td>2.810</td>\n",
       "      <td>0.002010</td>\n",
       "    </tr>\n",
       "    <tr>\n",
       "      <th>NorthKorea</th>\n",
       "      <td>25.670</td>\n",
       "      <td>28.50</td>\n",
       "      <td>1.110245</td>\n",
       "      <td>1.280</td>\n",
       "      <td>0.049864</td>\n",
       "    </tr>\n",
       "    <tr>\n",
       "      <th>Cuba</th>\n",
       "      <td>11.330</td>\n",
       "      <td>100.00</td>\n",
       "      <td>8.826125</td>\n",
       "      <td>0.050</td>\n",
       "      <td>0.004413</td>\n",
       "    </tr>\n",
       "    <tr>\n",
       "      <th>Laos</th>\n",
       "      <td>7.169</td>\n",
       "      <td>18.17</td>\n",
       "      <td>2.534524</td>\n",
       "      <td>0.030</td>\n",
       "      <td>0.004185</td>\n",
       "    </tr>\n",
       "    <tr>\n",
       "      <th>Vietnam</th>\n",
       "      <td>96.460</td>\n",
       "      <td>261.90</td>\n",
       "      <td>2.715115</td>\n",
       "      <td>0.484</td>\n",
       "      <td>0.005018</td>\n",
       "    </tr>\n",
       "    <tr>\n",
       "      <th>World</th>\n",
       "      <td>7900.000</td>\n",
       "      <td>83844.00</td>\n",
       "      <td>10.613165</td>\n",
       "      <td>20.500</td>\n",
       "      <td>0.002595</td>\n",
       "    </tr>\n",
       "  </tbody>\n",
       "</table>\n",
       "</div>"
      ],
      "text/plain": [
       "                 soc    socgdp   socgdppc  socarmy  socarmy%\n",
       "China       1398.000  14340.00  10.257511    2.810  0.002010\n",
       "NorthKorea    25.670     28.50   1.110245    1.280  0.049864\n",
       "Cuba          11.330    100.00   8.826125    0.050  0.004413\n",
       "Laos           7.169     18.17   2.534524    0.030  0.004185\n",
       "Vietnam       96.460    261.90   2.715115    0.484  0.005018\n",
       "World       7900.000  83844.00  10.613165   20.500  0.002595"
      ]
     },
     "execution_count": 244,
     "metadata": {},
     "output_type": "execute_result"
    }
   ],
   "source": [
    "socdf"
   ]
  },
  {
   "cell_type": "code",
   "execution_count": 245,
   "id": "c7026b9f",
   "metadata": {},
   "outputs": [
    {
     "data": {
      "text/plain": [
       "China          3.0\n",
       "NorthKorea     1.0\n",
       "Cuba           0.0\n",
       "Laos           0.0\n",
       "Vietnam        0.0\n",
       "World         20.0\n",
       "Name: socarmy, dtype: float64"
      ]
     },
     "execution_count": 245,
     "metadata": {},
     "output_type": "execute_result"
    }
   ],
   "source": [
    "round(socdf.loc[:, 'socarmy'])"
   ]
  },
  {
   "cell_type": "code",
   "execution_count": 246,
   "id": "0173b148",
   "metadata": {},
   "outputs": [],
   "source": [
    "socdf.loc[:, 'test'] = pd.Series(np.full(6,5), index = socdf.index)"
   ]
  },
  {
   "cell_type": "code",
   "execution_count": 247,
   "id": "d447b24f",
   "metadata": {},
   "outputs": [
    {
     "ename": "KeyError",
     "evalue": "\"['test'] not found in axis\"",
     "output_type": "error",
     "traceback": [
      "\u001b[0;31m---------------------------------------------------------------------------\u001b[0m",
      "\u001b[0;31mKeyError\u001b[0m                                  Traceback (most recent call last)",
      "\u001b[0;32m<ipython-input-247-f62bbe1fb25c>\u001b[0m in \u001b[0;36m<module>\u001b[0;34m\u001b[0m\n\u001b[0;32m----> 1\u001b[0;31m \u001b[0msocdf\u001b[0m \u001b[0;34m=\u001b[0m \u001b[0msocdf\u001b[0m\u001b[0;34m.\u001b[0m\u001b[0mdrop\u001b[0m\u001b[0;34m(\u001b[0m\u001b[0;34m'test'\u001b[0m\u001b[0;34m)\u001b[0m\u001b[0;34m\u001b[0m\u001b[0;34m\u001b[0m\u001b[0m\n\u001b[0m",
      "\u001b[0;32m~/Documents/freecodecamp/venv/lib/python3.9/site-packages/pandas/core/frame.py\u001b[0m in \u001b[0;36mdrop\u001b[0;34m(self, labels, axis, index, columns, level, inplace, errors)\u001b[0m\n\u001b[1;32m   4306\u001b[0m                 \u001b[0mweight\u001b[0m  \u001b[0;36m1.0\u001b[0m     \u001b[0;36m0.8\u001b[0m\u001b[0;34m\u001b[0m\u001b[0;34m\u001b[0m\u001b[0m\n\u001b[1;32m   4307\u001b[0m         \"\"\"\n\u001b[0;32m-> 4308\u001b[0;31m         return super().drop(\n\u001b[0m\u001b[1;32m   4309\u001b[0m             \u001b[0mlabels\u001b[0m\u001b[0;34m=\u001b[0m\u001b[0mlabels\u001b[0m\u001b[0;34m,\u001b[0m\u001b[0;34m\u001b[0m\u001b[0;34m\u001b[0m\u001b[0m\n\u001b[1;32m   4310\u001b[0m             \u001b[0maxis\u001b[0m\u001b[0;34m=\u001b[0m\u001b[0maxis\u001b[0m\u001b[0;34m,\u001b[0m\u001b[0;34m\u001b[0m\u001b[0;34m\u001b[0m\u001b[0m\n",
      "\u001b[0;32m~/Documents/freecodecamp/venv/lib/python3.9/site-packages/pandas/core/generic.py\u001b[0m in \u001b[0;36mdrop\u001b[0;34m(self, labels, axis, index, columns, level, inplace, errors)\u001b[0m\n\u001b[1;32m   4151\u001b[0m         \u001b[0;32mfor\u001b[0m \u001b[0maxis\u001b[0m\u001b[0;34m,\u001b[0m \u001b[0mlabels\u001b[0m \u001b[0;32min\u001b[0m \u001b[0maxes\u001b[0m\u001b[0;34m.\u001b[0m\u001b[0mitems\u001b[0m\u001b[0;34m(\u001b[0m\u001b[0;34m)\u001b[0m\u001b[0;34m:\u001b[0m\u001b[0;34m\u001b[0m\u001b[0;34m\u001b[0m\u001b[0m\n\u001b[1;32m   4152\u001b[0m             \u001b[0;32mif\u001b[0m \u001b[0mlabels\u001b[0m \u001b[0;32mis\u001b[0m \u001b[0;32mnot\u001b[0m \u001b[0;32mNone\u001b[0m\u001b[0;34m:\u001b[0m\u001b[0;34m\u001b[0m\u001b[0;34m\u001b[0m\u001b[0m\n\u001b[0;32m-> 4153\u001b[0;31m                 \u001b[0mobj\u001b[0m \u001b[0;34m=\u001b[0m \u001b[0mobj\u001b[0m\u001b[0;34m.\u001b[0m\u001b[0m_drop_axis\u001b[0m\u001b[0;34m(\u001b[0m\u001b[0mlabels\u001b[0m\u001b[0;34m,\u001b[0m \u001b[0maxis\u001b[0m\u001b[0;34m,\u001b[0m \u001b[0mlevel\u001b[0m\u001b[0;34m=\u001b[0m\u001b[0mlevel\u001b[0m\u001b[0;34m,\u001b[0m \u001b[0merrors\u001b[0m\u001b[0;34m=\u001b[0m\u001b[0merrors\u001b[0m\u001b[0;34m)\u001b[0m\u001b[0;34m\u001b[0m\u001b[0;34m\u001b[0m\u001b[0m\n\u001b[0m\u001b[1;32m   4154\u001b[0m \u001b[0;34m\u001b[0m\u001b[0m\n\u001b[1;32m   4155\u001b[0m         \u001b[0;32mif\u001b[0m \u001b[0minplace\u001b[0m\u001b[0;34m:\u001b[0m\u001b[0;34m\u001b[0m\u001b[0;34m\u001b[0m\u001b[0m\n",
      "\u001b[0;32m~/Documents/freecodecamp/venv/lib/python3.9/site-packages/pandas/core/generic.py\u001b[0m in \u001b[0;36m_drop_axis\u001b[0;34m(self, labels, axis, level, errors)\u001b[0m\n\u001b[1;32m   4186\u001b[0m                 \u001b[0mnew_axis\u001b[0m \u001b[0;34m=\u001b[0m \u001b[0maxis\u001b[0m\u001b[0;34m.\u001b[0m\u001b[0mdrop\u001b[0m\u001b[0;34m(\u001b[0m\u001b[0mlabels\u001b[0m\u001b[0;34m,\u001b[0m \u001b[0mlevel\u001b[0m\u001b[0;34m=\u001b[0m\u001b[0mlevel\u001b[0m\u001b[0;34m,\u001b[0m \u001b[0merrors\u001b[0m\u001b[0;34m=\u001b[0m\u001b[0merrors\u001b[0m\u001b[0;34m)\u001b[0m\u001b[0;34m\u001b[0m\u001b[0;34m\u001b[0m\u001b[0m\n\u001b[1;32m   4187\u001b[0m             \u001b[0;32melse\u001b[0m\u001b[0;34m:\u001b[0m\u001b[0;34m\u001b[0m\u001b[0;34m\u001b[0m\u001b[0m\n\u001b[0;32m-> 4188\u001b[0;31m                 \u001b[0mnew_axis\u001b[0m \u001b[0;34m=\u001b[0m \u001b[0maxis\u001b[0m\u001b[0;34m.\u001b[0m\u001b[0mdrop\u001b[0m\u001b[0;34m(\u001b[0m\u001b[0mlabels\u001b[0m\u001b[0;34m,\u001b[0m \u001b[0merrors\u001b[0m\u001b[0;34m=\u001b[0m\u001b[0merrors\u001b[0m\u001b[0;34m)\u001b[0m\u001b[0;34m\u001b[0m\u001b[0;34m\u001b[0m\u001b[0m\n\u001b[0m\u001b[1;32m   4189\u001b[0m             \u001b[0mresult\u001b[0m \u001b[0;34m=\u001b[0m \u001b[0mself\u001b[0m\u001b[0;34m.\u001b[0m\u001b[0mreindex\u001b[0m\u001b[0;34m(\u001b[0m\u001b[0;34m**\u001b[0m\u001b[0;34m{\u001b[0m\u001b[0maxis_name\u001b[0m\u001b[0;34m:\u001b[0m \u001b[0mnew_axis\u001b[0m\u001b[0;34m}\u001b[0m\u001b[0;34m)\u001b[0m\u001b[0;34m\u001b[0m\u001b[0;34m\u001b[0m\u001b[0m\n\u001b[1;32m   4190\u001b[0m \u001b[0;34m\u001b[0m\u001b[0m\n",
      "\u001b[0;32m~/Documents/freecodecamp/venv/lib/python3.9/site-packages/pandas/core/indexes/base.py\u001b[0m in \u001b[0;36mdrop\u001b[0;34m(self, labels, errors)\u001b[0m\n\u001b[1;32m   5589\u001b[0m         \u001b[0;32mif\u001b[0m \u001b[0mmask\u001b[0m\u001b[0;34m.\u001b[0m\u001b[0many\u001b[0m\u001b[0;34m(\u001b[0m\u001b[0;34m)\u001b[0m\u001b[0;34m:\u001b[0m\u001b[0;34m\u001b[0m\u001b[0;34m\u001b[0m\u001b[0m\n\u001b[1;32m   5590\u001b[0m             \u001b[0;32mif\u001b[0m \u001b[0merrors\u001b[0m \u001b[0;34m!=\u001b[0m \u001b[0;34m\"ignore\"\u001b[0m\u001b[0;34m:\u001b[0m\u001b[0;34m\u001b[0m\u001b[0;34m\u001b[0m\u001b[0m\n\u001b[0;32m-> 5591\u001b[0;31m                 \u001b[0;32mraise\u001b[0m \u001b[0mKeyError\u001b[0m\u001b[0;34m(\u001b[0m\u001b[0;34mf\"{labels[mask]} not found in axis\"\u001b[0m\u001b[0;34m)\u001b[0m\u001b[0;34m\u001b[0m\u001b[0;34m\u001b[0m\u001b[0m\n\u001b[0m\u001b[1;32m   5592\u001b[0m             \u001b[0mindexer\u001b[0m \u001b[0;34m=\u001b[0m \u001b[0mindexer\u001b[0m\u001b[0;34m[\u001b[0m\u001b[0;34m~\u001b[0m\u001b[0mmask\u001b[0m\u001b[0;34m]\u001b[0m\u001b[0;34m\u001b[0m\u001b[0;34m\u001b[0m\u001b[0m\n\u001b[1;32m   5593\u001b[0m         \u001b[0;32mreturn\u001b[0m \u001b[0mself\u001b[0m\u001b[0;34m.\u001b[0m\u001b[0mdelete\u001b[0m\u001b[0;34m(\u001b[0m\u001b[0mindexer\u001b[0m\u001b[0;34m)\u001b[0m\u001b[0;34m\u001b[0m\u001b[0;34m\u001b[0m\u001b[0m\n",
      "\u001b[0;31mKeyError\u001b[0m: \"['test'] not found in axis\""
     ]
    }
   ],
   "source": [
    "socdf = socdf.drop('test')"
   ]
  },
  {
   "cell_type": "code",
   "execution_count": 248,
   "id": "72f930f7",
   "metadata": {},
   "outputs": [
    {
     "data": {
      "text/html": [
       "<div>\n",
       "<style scoped>\n",
       "    .dataframe tbody tr th:only-of-type {\n",
       "        vertical-align: middle;\n",
       "    }\n",
       "\n",
       "    .dataframe tbody tr th {\n",
       "        vertical-align: top;\n",
       "    }\n",
       "\n",
       "    .dataframe thead th {\n",
       "        text-align: right;\n",
       "    }\n",
       "</style>\n",
       "<table border=\"1\" class=\"dataframe\">\n",
       "  <thead>\n",
       "    <tr style=\"text-align: right;\">\n",
       "      <th></th>\n",
       "      <th>socarmy</th>\n",
       "      <th>test</th>\n",
       "    </tr>\n",
       "  </thead>\n",
       "  <tbody>\n",
       "    <tr>\n",
       "      <th>China</th>\n",
       "      <td>281.0</td>\n",
       "      <td>500</td>\n",
       "    </tr>\n",
       "    <tr>\n",
       "      <th>NorthKorea</th>\n",
       "      <td>128.0</td>\n",
       "      <td>500</td>\n",
       "    </tr>\n",
       "    <tr>\n",
       "      <th>Cuba</th>\n",
       "      <td>5.0</td>\n",
       "      <td>500</td>\n",
       "    </tr>\n",
       "    <tr>\n",
       "      <th>Laos</th>\n",
       "      <td>3.0</td>\n",
       "      <td>500</td>\n",
       "    </tr>\n",
       "    <tr>\n",
       "      <th>Vietnam</th>\n",
       "      <td>48.4</td>\n",
       "      <td>500</td>\n",
       "    </tr>\n",
       "    <tr>\n",
       "      <th>World</th>\n",
       "      <td>2050.0</td>\n",
       "      <td>500</td>\n",
       "    </tr>\n",
       "  </tbody>\n",
       "</table>\n",
       "</div>"
      ],
      "text/plain": [
       "            socarmy  test\n",
       "China         281.0   500\n",
       "NorthKorea    128.0   500\n",
       "Cuba            5.0   500\n",
       "Laos            3.0   500\n",
       "Vietnam        48.4   500\n",
       "World        2050.0   500"
      ]
     },
     "execution_count": 248,
     "metadata": {},
     "output_type": "execute_result"
    }
   ],
   "source": [
    "socdf.loc[:, ['socarmy', 'test']]*100"
   ]
  },
  {
   "cell_type": "code",
   "execution_count": 249,
   "id": "d964b6df",
   "metadata": {},
   "outputs": [
    {
     "data": {
      "text/html": [
       "<div>\n",
       "<style scoped>\n",
       "    .dataframe tbody tr th:only-of-type {\n",
       "        vertical-align: middle;\n",
       "    }\n",
       "\n",
       "    .dataframe tbody tr th {\n",
       "        vertical-align: top;\n",
       "    }\n",
       "\n",
       "    .dataframe thead th {\n",
       "        text-align: right;\n",
       "    }\n",
       "</style>\n",
       "<table border=\"1\" class=\"dataframe\">\n",
       "  <thead>\n",
       "    <tr style=\"text-align: right;\">\n",
       "      <th></th>\n",
       "      <th>soc</th>\n",
       "      <th>socgdp</th>\n",
       "      <th>socgdppc</th>\n",
       "      <th>socarmy</th>\n",
       "      <th>socarmy%</th>\n",
       "      <th>test</th>\n",
       "    </tr>\n",
       "  </thead>\n",
       "  <tbody>\n",
       "    <tr>\n",
       "      <th>China</th>\n",
       "      <td>1398.000</td>\n",
       "      <td>14340.00</td>\n",
       "      <td>10.257511</td>\n",
       "      <td>2.810</td>\n",
       "      <td>0.002010</td>\n",
       "      <td>5</td>\n",
       "    </tr>\n",
       "    <tr>\n",
       "      <th>NorthKorea</th>\n",
       "      <td>25.670</td>\n",
       "      <td>28.50</td>\n",
       "      <td>1.110245</td>\n",
       "      <td>1.280</td>\n",
       "      <td>0.049864</td>\n",
       "      <td>5</td>\n",
       "    </tr>\n",
       "    <tr>\n",
       "      <th>Cuba</th>\n",
       "      <td>11.330</td>\n",
       "      <td>100.00</td>\n",
       "      <td>8.826125</td>\n",
       "      <td>0.050</td>\n",
       "      <td>0.004413</td>\n",
       "      <td>5</td>\n",
       "    </tr>\n",
       "    <tr>\n",
       "      <th>Laos</th>\n",
       "      <td>7.169</td>\n",
       "      <td>18.17</td>\n",
       "      <td>2.534524</td>\n",
       "      <td>0.030</td>\n",
       "      <td>0.004185</td>\n",
       "      <td>5</td>\n",
       "    </tr>\n",
       "    <tr>\n",
       "      <th>Vietnam</th>\n",
       "      <td>96.460</td>\n",
       "      <td>261.90</td>\n",
       "      <td>2.715115</td>\n",
       "      <td>0.484</td>\n",
       "      <td>0.005018</td>\n",
       "      <td>5</td>\n",
       "    </tr>\n",
       "    <tr>\n",
       "      <th>World</th>\n",
       "      <td>7900.000</td>\n",
       "      <td>83844.00</td>\n",
       "      <td>10.613165</td>\n",
       "      <td>20.500</td>\n",
       "      <td>0.002595</td>\n",
       "      <td>5</td>\n",
       "    </tr>\n",
       "  </tbody>\n",
       "</table>\n",
       "</div>"
      ],
      "text/plain": [
       "                 soc    socgdp   socgdppc  socarmy  socarmy%  test\n",
       "China       1398.000  14340.00  10.257511    2.810  0.002010     5\n",
       "NorthKorea    25.670     28.50   1.110245    1.280  0.049864     5\n",
       "Cuba          11.330    100.00   8.826125    0.050  0.004413     5\n",
       "Laos           7.169     18.17   2.534524    0.030  0.004185     5\n",
       "Vietnam       96.460    261.90   2.715115    0.484  0.005018     5\n",
       "World       7900.000  83844.00  10.613165   20.500  0.002595     5"
      ]
     },
     "execution_count": 249,
     "metadata": {},
     "output_type": "execute_result"
    }
   ],
   "source": [
    "socdf"
   ]
  },
  {
   "cell_type": "code",
   "execution_count": 250,
   "id": "26bd6cf2",
   "metadata": {},
   "outputs": [],
   "source": [
    "factor = pd.Series([100, 20], index = ['socarmy%', 'test'])"
   ]
  },
  {
   "cell_type": "code",
   "execution_count": 251,
   "id": "a67aaeb0",
   "metadata": {},
   "outputs": [
    {
     "data": {
      "text/html": [
       "<div>\n",
       "<style scoped>\n",
       "    .dataframe tbody tr th:only-of-type {\n",
       "        vertical-align: middle;\n",
       "    }\n",
       "\n",
       "    .dataframe tbody tr th {\n",
       "        vertical-align: top;\n",
       "    }\n",
       "\n",
       "    .dataframe thead th {\n",
       "        text-align: right;\n",
       "    }\n",
       "</style>\n",
       "<table border=\"1\" class=\"dataframe\">\n",
       "  <thead>\n",
       "    <tr style=\"text-align: right;\">\n",
       "      <th></th>\n",
       "      <th>socarmy%</th>\n",
       "      <th>test</th>\n",
       "    </tr>\n",
       "  </thead>\n",
       "  <tbody>\n",
       "    <tr>\n",
       "      <th>China</th>\n",
       "      <td>0.20</td>\n",
       "      <td>100</td>\n",
       "    </tr>\n",
       "    <tr>\n",
       "      <th>NorthKorea</th>\n",
       "      <td>4.99</td>\n",
       "      <td>100</td>\n",
       "    </tr>\n",
       "    <tr>\n",
       "      <th>Cuba</th>\n",
       "      <td>0.44</td>\n",
       "      <td>100</td>\n",
       "    </tr>\n",
       "    <tr>\n",
       "      <th>Laos</th>\n",
       "      <td>0.42</td>\n",
       "      <td>100</td>\n",
       "    </tr>\n",
       "    <tr>\n",
       "      <th>Vietnam</th>\n",
       "      <td>0.50</td>\n",
       "      <td>100</td>\n",
       "    </tr>\n",
       "    <tr>\n",
       "      <th>World</th>\n",
       "      <td>0.26</td>\n",
       "      <td>100</td>\n",
       "    </tr>\n",
       "  </tbody>\n",
       "</table>\n",
       "</div>"
      ],
      "text/plain": [
       "            socarmy%  test\n",
       "China           0.20   100\n",
       "NorthKorea      4.99   100\n",
       "Cuba            0.44   100\n",
       "Laos            0.42   100\n",
       "Vietnam         0.50   100\n",
       "World           0.26   100"
      ]
     },
     "execution_count": 251,
     "metadata": {},
     "output_type": "execute_result"
    }
   ],
   "source": [
    "round(socdf[['socarmy%', 'test']], 4) * factor"
   ]
  },
  {
   "cell_type": "code",
   "execution_count": 252,
   "id": "1d9340bd",
   "metadata": {},
   "outputs": [],
   "source": [
    "socdf.loc[:, 'socarmy%'] *= 100"
   ]
  },
  {
   "cell_type": "code",
   "execution_count": 258,
   "id": "0011fdb9",
   "metadata": {},
   "outputs": [],
   "source": [
    "socdf.loc[:, 'socarmy%'] = round(socdf.loc[:, 'socarmy%'], 4)"
   ]
  },
  {
   "cell_type": "code",
   "execution_count": 264,
   "id": "c3724da8",
   "metadata": {},
   "outputs": [
    {
     "data": {
      "text/html": [
       "<div>\n",
       "<style scoped>\n",
       "    .dataframe tbody tr th:only-of-type {\n",
       "        vertical-align: middle;\n",
       "    }\n",
       "\n",
       "    .dataframe tbody tr th {\n",
       "        vertical-align: top;\n",
       "    }\n",
       "\n",
       "    .dataframe thead th {\n",
       "        text-align: right;\n",
       "    }\n",
       "</style>\n",
       "<table border=\"1\" class=\"dataframe\">\n",
       "  <thead>\n",
       "    <tr style=\"text-align: right;\">\n",
       "      <th></th>\n",
       "      <th>soc</th>\n",
       "      <th>socgdp</th>\n",
       "      <th>socgdppc</th>\n",
       "      <th>socarmy</th>\n",
       "      <th>socarmy%</th>\n",
       "      <th>test</th>\n",
       "    </tr>\n",
       "  </thead>\n",
       "  <tbody>\n",
       "    <tr>\n",
       "      <th>China</th>\n",
       "      <td>1398.000</td>\n",
       "      <td>14340.00</td>\n",
       "      <td>10.257511</td>\n",
       "      <td>2.810</td>\n",
       "      <td>0.2010</td>\n",
       "      <td>6</td>\n",
       "    </tr>\n",
       "    <tr>\n",
       "      <th>NorthKorea</th>\n",
       "      <td>25.670</td>\n",
       "      <td>28.50</td>\n",
       "      <td>1.110245</td>\n",
       "      <td>1.280</td>\n",
       "      <td>4.9864</td>\n",
       "      <td>6</td>\n",
       "    </tr>\n",
       "    <tr>\n",
       "      <th>Cuba</th>\n",
       "      <td>11.330</td>\n",
       "      <td>100.00</td>\n",
       "      <td>8.826125</td>\n",
       "      <td>0.050</td>\n",
       "      <td>0.4413</td>\n",
       "      <td>6</td>\n",
       "    </tr>\n",
       "    <tr>\n",
       "      <th>Laos</th>\n",
       "      <td>7.169</td>\n",
       "      <td>18.17</td>\n",
       "      <td>2.534524</td>\n",
       "      <td>0.030</td>\n",
       "      <td>0.4185</td>\n",
       "      <td>6</td>\n",
       "    </tr>\n",
       "    <tr>\n",
       "      <th>Vietnam</th>\n",
       "      <td>96.460</td>\n",
       "      <td>261.90</td>\n",
       "      <td>2.715115</td>\n",
       "      <td>0.484</td>\n",
       "      <td>0.5018</td>\n",
       "      <td>6</td>\n",
       "    </tr>\n",
       "    <tr>\n",
       "      <th>World</th>\n",
       "      <td>7900.000</td>\n",
       "      <td>83844.00</td>\n",
       "      <td>10.613165</td>\n",
       "      <td>20.500</td>\n",
       "      <td>0.2595</td>\n",
       "      <td>6</td>\n",
       "    </tr>\n",
       "  </tbody>\n",
       "</table>\n",
       "</div>"
      ],
      "text/plain": [
       "                 soc    socgdp   socgdppc  socarmy  socarmy%  test\n",
       "China       1398.000  14340.00  10.257511    2.810    0.2010     6\n",
       "NorthKorea    25.670     28.50   1.110245    1.280    4.9864     6\n",
       "Cuba          11.330    100.00   8.826125    0.050    0.4413     6\n",
       "Laos           7.169     18.17   2.534524    0.030    0.4185     6\n",
       "Vietnam       96.460    261.90   2.715115    0.484    0.5018     6\n",
       "World       7900.000  83844.00  10.613165   20.500    0.2595     6"
      ]
     },
     "execution_count": 264,
     "metadata": {},
     "output_type": "execute_result"
    }
   ],
   "source": [
    "socdf"
   ]
  },
  {
   "cell_type": "code",
   "execution_count": 260,
   "id": "2734c284",
   "metadata": {},
   "outputs": [],
   "source": [
    "socdf.loc[:, 'test'] = 6"
   ]
  },
  {
   "cell_type": "code",
   "execution_count": 315,
   "id": "7599674c",
   "metadata": {},
   "outputs": [],
   "source": [
    "dict1 = {\n",
    "    'population': 'soc',\n",
    "    'GDP': 'socgdp',\n",
    "    'socgdp' : 'GDP_PC',\n",
    "    'socarmy' : 'Soldiers',\n",
    "    'socarmy%' : 'Soldiers_in_population',\n",
    "    'test' : 'test'}"
   ]
  },
  {
   "cell_type": "code",
   "execution_count": 313,
   "id": "2b6ebc32",
   "metadata": {},
   "outputs": [],
   "source": [
    "dict2 = {\n",
    "    'China' : 'CHN',\n",
    "    'KorthKorea' : \"NK\",\n",
    "    'Cuba' : 'CUB',\n",
    "    'Laos' : 'LAO',\n",
    "    'Vietnam' : 'VTM',\n",
    "    'World' : 'WLD'\n",
    "    }"
   ]
  },
  {
   "cell_type": "code",
   "execution_count": 295,
   "id": "0b69dabf",
   "metadata": {},
   "outputs": [
    {
     "ename": "TypeError",
     "evalue": "'str' object is not callable",
     "output_type": "error",
     "traceback": [
      "\u001b[0;31m---------------------------------------------------------------------------\u001b[0m",
      "\u001b[0;31mTypeError\u001b[0m                                 Traceback (most recent call last)",
      "\u001b[0;32m<ipython-input-295-71ecfc1afcb7>\u001b[0m in \u001b[0;36m<module>\u001b[0;34m\u001b[0m\n\u001b[0;32m----> 1\u001b[0;31m \u001b[0msocdf\u001b[0m\u001b[0;34m.\u001b[0m\u001b[0mrename\u001b[0m\u001b[0;34m(\u001b[0m\u001b[0;34m)\u001b[0m\u001b[0;34m\u001b[0m\u001b[0;34m\u001b[0m\u001b[0m\n\u001b[0m",
      "\u001b[0;31mTypeError\u001b[0m: 'str' object is not callable"
     ]
    }
   ],
   "source": [
    "socdf.rename()"
   ]
  },
  {
   "cell_type": "code",
   "execution_count": 277,
   "id": "eb5bb31b",
   "metadata": {},
   "outputs": [
    {
     "ename": "TypeError",
     "evalue": "'str' object is not callable",
     "output_type": "error",
     "traceback": [
      "\u001b[0;31m---------------------------------------------------------------------------\u001b[0m",
      "\u001b[0;31mTypeError\u001b[0m                                 Traceback (most recent call last)",
      "\u001b[0;32m<ipython-input-277-7c4d7d6b876a>\u001b[0m in \u001b[0;36m<module>\u001b[0;34m\u001b[0m\n\u001b[0;32m----> 1\u001b[0;31m \u001b[0msocdf\u001b[0m\u001b[0;34m.\u001b[0m\u001b[0mrename\u001b[0m\u001b[0;34m(\u001b[0m\u001b[0mcolumns\u001b[0m \u001b[0;34m=\u001b[0m \u001b[0mdict1\u001b[0m\u001b[0;34m,\u001b[0m \u001b[0mindex\u001b[0m \u001b[0;34m=\u001b[0m \u001b[0mdict2\u001b[0m\u001b[0;34m)\u001b[0m\u001b[0;34m\u001b[0m\u001b[0;34m\u001b[0m\u001b[0m\n\u001b[0m",
      "\u001b[0;31mTypeError\u001b[0m: 'str' object is not callable"
     ]
    }
   ],
   "source": [
    "socdf.rename(columns = dict1, index = dict2)\n"
   ]
  },
  {
   "cell_type": "code",
   "execution_count": 280,
   "id": "ff063bb9",
   "metadata": {},
   "outputs": [
    {
     "data": {
      "text/plain": [
       "pandas.core.frame.DataFrame"
      ]
     },
     "execution_count": 280,
     "metadata": {},
     "output_type": "execute_result"
    }
   ],
   "source": [
    "type(socdf)"
   ]
  },
  {
   "cell_type": "code",
   "execution_count": 292,
   "id": "b2a3441b",
   "metadata": {},
   "outputs": [],
   "source": [
    "noventas = pd.DataFrame(np.full((5,4), 90))"
   ]
  },
  {
   "cell_type": "code",
   "execution_count": 293,
   "id": "dd2a2836",
   "metadata": {},
   "outputs": [
    {
     "data": {
      "text/html": [
       "<div>\n",
       "<style scoped>\n",
       "    .dataframe tbody tr th:only-of-type {\n",
       "        vertical-align: middle;\n",
       "    }\n",
       "\n",
       "    .dataframe tbody tr th {\n",
       "        vertical-align: top;\n",
       "    }\n",
       "\n",
       "    .dataframe thead th {\n",
       "        text-align: right;\n",
       "    }\n",
       "</style>\n",
       "<table border=\"1\" class=\"dataframe\">\n",
       "  <thead>\n",
       "    <tr style=\"text-align: right;\">\n",
       "      <th></th>\n",
       "      <th>0</th>\n",
       "      <th>1</th>\n",
       "      <th>2</th>\n",
       "      <th>3</th>\n",
       "    </tr>\n",
       "  </thead>\n",
       "  <tbody>\n",
       "    <tr>\n",
       "      <th>0</th>\n",
       "      <td>90</td>\n",
       "      <td>90</td>\n",
       "      <td>90</td>\n",
       "      <td>90</td>\n",
       "    </tr>\n",
       "    <tr>\n",
       "      <th>1</th>\n",
       "      <td>90</td>\n",
       "      <td>90</td>\n",
       "      <td>90</td>\n",
       "      <td>90</td>\n",
       "    </tr>\n",
       "    <tr>\n",
       "      <th>2</th>\n",
       "      <td>90</td>\n",
       "      <td>90</td>\n",
       "      <td>90</td>\n",
       "      <td>90</td>\n",
       "    </tr>\n",
       "    <tr>\n",
       "      <th>3</th>\n",
       "      <td>90</td>\n",
       "      <td>90</td>\n",
       "      <td>90</td>\n",
       "      <td>90</td>\n",
       "    </tr>\n",
       "    <tr>\n",
       "      <th>4</th>\n",
       "      <td>90</td>\n",
       "      <td>90</td>\n",
       "      <td>90</td>\n",
       "      <td>90</td>\n",
       "    </tr>\n",
       "  </tbody>\n",
       "</table>\n",
       "</div>"
      ],
      "text/plain": [
       "    0   1   2   3\n",
       "0  90  90  90  90\n",
       "1  90  90  90  90\n",
       "2  90  90  90  90\n",
       "3  90  90  90  90\n",
       "4  90  90  90  90"
      ]
     },
     "execution_count": 293,
     "metadata": {},
     "output_type": "execute_result"
    }
   ],
   "source": [
    "noventas"
   ]
  },
  {
   "cell_type": "code",
   "execution_count": 286,
   "id": "17d36132",
   "metadata": {},
   "outputs": [
    {
     "data": {
      "text/plain": [
       "pandas.core.frame.DataFrame"
      ]
     },
     "execution_count": 286,
     "metadata": {},
     "output_type": "execute_result"
    }
   ],
   "source": [
    "type(noventas)"
   ]
  },
  {
   "cell_type": "code",
   "execution_count": 294,
   "id": "e6723731",
   "metadata": {},
   "outputs": [
    {
     "data": {
      "text/html": [
       "<div>\n",
       "<style scoped>\n",
       "    .dataframe tbody tr th:only-of-type {\n",
       "        vertical-align: middle;\n",
       "    }\n",
       "\n",
       "    .dataframe tbody tr th {\n",
       "        vertical-align: top;\n",
       "    }\n",
       "\n",
       "    .dataframe thead th {\n",
       "        text-align: right;\n",
       "    }\n",
       "</style>\n",
       "<table border=\"1\" class=\"dataframe\">\n",
       "  <thead>\n",
       "    <tr style=\"text-align: right;\">\n",
       "      <th></th>\n",
       "      <th>0</th>\n",
       "      <th>1</th>\n",
       "      <th>2</th>\n",
       "      <th>3</th>\n",
       "    </tr>\n",
       "  </thead>\n",
       "  <tbody>\n",
       "    <tr>\n",
       "      <th>0</th>\n",
       "      <td>90</td>\n",
       "      <td>90</td>\n",
       "      <td>90</td>\n",
       "      <td>90</td>\n",
       "    </tr>\n",
       "    <tr>\n",
       "      <th>1</th>\n",
       "      <td>90</td>\n",
       "      <td>90</td>\n",
       "      <td>90</td>\n",
       "      <td>90</td>\n",
       "    </tr>\n",
       "    <tr>\n",
       "      <th>2</th>\n",
       "      <td>90</td>\n",
       "      <td>90</td>\n",
       "      <td>90</td>\n",
       "      <td>90</td>\n",
       "    </tr>\n",
       "    <tr>\n",
       "      <th>3</th>\n",
       "      <td>90</td>\n",
       "      <td>90</td>\n",
       "      <td>90</td>\n",
       "      <td>90</td>\n",
       "    </tr>\n",
       "    <tr>\n",
       "      <th>4</th>\n",
       "      <td>90</td>\n",
       "      <td>90</td>\n",
       "      <td>90</td>\n",
       "      <td>90</td>\n",
       "    </tr>\n",
       "  </tbody>\n",
       "</table>\n",
       "</div>"
      ],
      "text/plain": [
       "    0   1   2   3\n",
       "0  90  90  90  90\n",
       "1  90  90  90  90\n",
       "2  90  90  90  90\n",
       "3  90  90  90  90\n",
       "4  90  90  90  90"
      ]
     },
     "execution_count": 294,
     "metadata": {},
     "output_type": "execute_result"
    }
   ],
   "source": [
    "\n",
    "noventas.rename(index = {0 : 'A', 1 : 'B'})"
   ]
  },
  {
   "cell_type": "code",
   "execution_count": 305,
   "id": "c370e1ad",
   "metadata": {},
   "outputs": [],
   "source": [
    "indices = socdf.index"
   ]
  },
  {
   "cell_type": "code",
   "execution_count": 306,
   "id": "ab8d82c5",
   "metadata": {},
   "outputs": [],
   "source": [
    "columnas = socdf.columns\n"
   ]
  },
  {
   "cell_type": "code",
   "execution_count": 307,
   "id": "d496833a",
   "metadata": {},
   "outputs": [],
   "source": [
    "arreglo = socdf.to_numpy()"
   ]
  },
  {
   "cell_type": "code",
   "execution_count": 308,
   "id": "9860c651",
   "metadata": {},
   "outputs": [],
   "source": [
    "socdf = pd.DataFrame(arreglo, index = indices, columns = columnas)"
   ]
  },
  {
   "cell_type": "code",
   "execution_count": 318,
   "id": "544616b0",
   "metadata": {},
   "outputs": [
    {
     "data": {
      "text/html": [
       "<div>\n",
       "<style scoped>\n",
       "    .dataframe tbody tr th:only-of-type {\n",
       "        vertical-align: middle;\n",
       "    }\n",
       "\n",
       "    .dataframe tbody tr th {\n",
       "        vertical-align: top;\n",
       "    }\n",
       "\n",
       "    .dataframe thead th {\n",
       "        text-align: right;\n",
       "    }\n",
       "</style>\n",
       "<table border=\"1\" class=\"dataframe\">\n",
       "  <thead>\n",
       "    <tr style=\"text-align: right;\">\n",
       "      <th></th>\n",
       "      <th>soc</th>\n",
       "      <th>GDP_PC</th>\n",
       "      <th>socgdppc</th>\n",
       "      <th>Soldiers</th>\n",
       "      <th>Soldiers_in_population</th>\n",
       "      <th>test</th>\n",
       "    </tr>\n",
       "  </thead>\n",
       "  <tbody>\n",
       "    <tr>\n",
       "      <th>CHN</th>\n",
       "      <td>1398.000</td>\n",
       "      <td>14340.00</td>\n",
       "      <td>10.257511</td>\n",
       "      <td>2.810</td>\n",
       "      <td>0.2010</td>\n",
       "      <td>6.0</td>\n",
       "    </tr>\n",
       "    <tr>\n",
       "      <th>NorthKorea</th>\n",
       "      <td>25.670</td>\n",
       "      <td>28.50</td>\n",
       "      <td>1.110245</td>\n",
       "      <td>1.280</td>\n",
       "      <td>4.9864</td>\n",
       "      <td>6.0</td>\n",
       "    </tr>\n",
       "    <tr>\n",
       "      <th>CUB</th>\n",
       "      <td>11.330</td>\n",
       "      <td>100.00</td>\n",
       "      <td>8.826125</td>\n",
       "      <td>0.050</td>\n",
       "      <td>0.4413</td>\n",
       "      <td>6.0</td>\n",
       "    </tr>\n",
       "    <tr>\n",
       "      <th>LAO</th>\n",
       "      <td>7.169</td>\n",
       "      <td>18.17</td>\n",
       "      <td>2.534524</td>\n",
       "      <td>0.030</td>\n",
       "      <td>0.4185</td>\n",
       "      <td>6.0</td>\n",
       "    </tr>\n",
       "    <tr>\n",
       "      <th>VTM</th>\n",
       "      <td>96.460</td>\n",
       "      <td>261.90</td>\n",
       "      <td>2.715115</td>\n",
       "      <td>0.484</td>\n",
       "      <td>0.5018</td>\n",
       "      <td>6.0</td>\n",
       "    </tr>\n",
       "    <tr>\n",
       "      <th>WLD</th>\n",
       "      <td>7900.000</td>\n",
       "      <td>83844.00</td>\n",
       "      <td>10.613165</td>\n",
       "      <td>20.500</td>\n",
       "      <td>0.2595</td>\n",
       "      <td>6.0</td>\n",
       "    </tr>\n",
       "  </tbody>\n",
       "</table>\n",
       "</div>"
      ],
      "text/plain": [
       "                 soc    GDP_PC   socgdppc  Soldiers  Soldiers_in_population  \\\n",
       "CHN         1398.000  14340.00  10.257511     2.810                  0.2010   \n",
       "NorthKorea    25.670     28.50   1.110245     1.280                  4.9864   \n",
       "CUB           11.330    100.00   8.826125     0.050                  0.4413   \n",
       "LAO            7.169     18.17   2.534524     0.030                  0.4185   \n",
       "VTM           96.460    261.90   2.715115     0.484                  0.5018   \n",
       "WLD         7900.000  83844.00  10.613165    20.500                  0.2595   \n",
       "\n",
       "            test  \n",
       "CHN          6.0  \n",
       "NorthKorea   6.0  \n",
       "CUB          6.0  \n",
       "LAO          6.0  \n",
       "VTM          6.0  \n",
       "WLD          6.0  "
      ]
     },
     "execution_count": 318,
     "metadata": {},
     "output_type": "execute_result"
    }
   ],
   "source": [
    "socdf.rename(index = dict2, columns = dict1)"
   ]
  },
  {
   "cell_type": "code",
   "execution_count": 319,
   "id": "aaed6a98",
   "metadata": {},
   "outputs": [
    {
     "data": {
      "text/html": [
       "<div>\n",
       "<style scoped>\n",
       "    .dataframe tbody tr th:only-of-type {\n",
       "        vertical-align: middle;\n",
       "    }\n",
       "\n",
       "    .dataframe tbody tr th {\n",
       "        vertical-align: top;\n",
       "    }\n",
       "\n",
       "    .dataframe thead th {\n",
       "        text-align: right;\n",
       "    }\n",
       "</style>\n",
       "<table border=\"1\" class=\"dataframe\">\n",
       "  <thead>\n",
       "    <tr style=\"text-align: right;\">\n",
       "      <th></th>\n",
       "      <th>soc</th>\n",
       "      <th>socgdp</th>\n",
       "      <th>socgdppc</th>\n",
       "      <th>socarmy</th>\n",
       "      <th>socarmy%</th>\n",
       "      <th>test</th>\n",
       "    </tr>\n",
       "  </thead>\n",
       "  <tbody>\n",
       "    <tr>\n",
       "      <th>China</th>\n",
       "      <td>1398.000</td>\n",
       "      <td>14340.00</td>\n",
       "      <td>10.257511</td>\n",
       "      <td>2.810</td>\n",
       "      <td>0.2010</td>\n",
       "      <td>6.0</td>\n",
       "    </tr>\n",
       "    <tr>\n",
       "      <th>NorthKorea</th>\n",
       "      <td>25.670</td>\n",
       "      <td>28.50</td>\n",
       "      <td>1.110245</td>\n",
       "      <td>1.280</td>\n",
       "      <td>4.9864</td>\n",
       "      <td>6.0</td>\n",
       "    </tr>\n",
       "    <tr>\n",
       "      <th>Cuba</th>\n",
       "      <td>11.330</td>\n",
       "      <td>100.00</td>\n",
       "      <td>8.826125</td>\n",
       "      <td>0.050</td>\n",
       "      <td>0.4413</td>\n",
       "      <td>6.0</td>\n",
       "    </tr>\n",
       "    <tr>\n",
       "      <th>Laos</th>\n",
       "      <td>7.169</td>\n",
       "      <td>18.17</td>\n",
       "      <td>2.534524</td>\n",
       "      <td>0.030</td>\n",
       "      <td>0.4185</td>\n",
       "      <td>6.0</td>\n",
       "    </tr>\n",
       "    <tr>\n",
       "      <th>Vietnam</th>\n",
       "      <td>96.460</td>\n",
       "      <td>261.90</td>\n",
       "      <td>2.715115</td>\n",
       "      <td>0.484</td>\n",
       "      <td>0.5018</td>\n",
       "      <td>6.0</td>\n",
       "    </tr>\n",
       "    <tr>\n",
       "      <th>World</th>\n",
       "      <td>7900.000</td>\n",
       "      <td>83844.00</td>\n",
       "      <td>10.613165</td>\n",
       "      <td>20.500</td>\n",
       "      <td>0.2595</td>\n",
       "      <td>6.0</td>\n",
       "    </tr>\n",
       "  </tbody>\n",
       "</table>\n",
       "</div>"
      ],
      "text/plain": [
       "                 soc    socgdp   socgdppc  socarmy  socarmy%  test\n",
       "China       1398.000  14340.00  10.257511    2.810    0.2010   6.0\n",
       "NorthKorea    25.670     28.50   1.110245    1.280    4.9864   6.0\n",
       "Cuba          11.330    100.00   8.826125    0.050    0.4413   6.0\n",
       "Laos           7.169     18.17   2.534524    0.030    0.4185   6.0\n",
       "Vietnam       96.460    261.90   2.715115    0.484    0.5018   6.0\n",
       "World       7900.000  83844.00  10.613165   20.500    0.2595   6.0"
      ]
     },
     "execution_count": 319,
     "metadata": {},
     "output_type": "execute_result"
    }
   ],
   "source": [
    "socdf"
   ]
  },
  {
   "cell_type": "code",
   "execution_count": 321,
   "id": "d2c68039",
   "metadata": {},
   "outputs": [
    {
     "data": {
      "text/html": [
       "<div>\n",
       "<style scoped>\n",
       "    .dataframe tbody tr th:only-of-type {\n",
       "        vertical-align: middle;\n",
       "    }\n",
       "\n",
       "    .dataframe tbody tr th {\n",
       "        vertical-align: top;\n",
       "    }\n",
       "\n",
       "    .dataframe thead th {\n",
       "        text-align: right;\n",
       "    }\n",
       "</style>\n",
       "<table border=\"1\" class=\"dataframe\">\n",
       "  <thead>\n",
       "    <tr style=\"text-align: right;\">\n",
       "      <th></th>\n",
       "      <th>SOC</th>\n",
       "      <th>SOCGDP</th>\n",
       "      <th>SOCGDPPC</th>\n",
       "      <th>SOCARMY</th>\n",
       "      <th>SOCARMY%</th>\n",
       "      <th>TEST</th>\n",
       "    </tr>\n",
       "  </thead>\n",
       "  <tbody>\n",
       "    <tr>\n",
       "      <th>China</th>\n",
       "      <td>1398.000</td>\n",
       "      <td>14340.00</td>\n",
       "      <td>10.257511</td>\n",
       "      <td>2.810</td>\n",
       "      <td>0.2010</td>\n",
       "      <td>6.0</td>\n",
       "    </tr>\n",
       "    <tr>\n",
       "      <th>NorthKorea</th>\n",
       "      <td>25.670</td>\n",
       "      <td>28.50</td>\n",
       "      <td>1.110245</td>\n",
       "      <td>1.280</td>\n",
       "      <td>4.9864</td>\n",
       "      <td>6.0</td>\n",
       "    </tr>\n",
       "    <tr>\n",
       "      <th>Cuba</th>\n",
       "      <td>11.330</td>\n",
       "      <td>100.00</td>\n",
       "      <td>8.826125</td>\n",
       "      <td>0.050</td>\n",
       "      <td>0.4413</td>\n",
       "      <td>6.0</td>\n",
       "    </tr>\n",
       "    <tr>\n",
       "      <th>Laos</th>\n",
       "      <td>7.169</td>\n",
       "      <td>18.17</td>\n",
       "      <td>2.534524</td>\n",
       "      <td>0.030</td>\n",
       "      <td>0.4185</td>\n",
       "      <td>6.0</td>\n",
       "    </tr>\n",
       "    <tr>\n",
       "      <th>Vietnam</th>\n",
       "      <td>96.460</td>\n",
       "      <td>261.90</td>\n",
       "      <td>2.715115</td>\n",
       "      <td>0.484</td>\n",
       "      <td>0.5018</td>\n",
       "      <td>6.0</td>\n",
       "    </tr>\n",
       "    <tr>\n",
       "      <th>World</th>\n",
       "      <td>7900.000</td>\n",
       "      <td>83844.00</td>\n",
       "      <td>10.613165</td>\n",
       "      <td>20.500</td>\n",
       "      <td>0.2595</td>\n",
       "      <td>6.0</td>\n",
       "    </tr>\n",
       "  </tbody>\n",
       "</table>\n",
       "</div>"
      ],
      "text/plain": [
       "                 SOC    SOCGDP   SOCGDPPC  SOCARMY  SOCARMY%  TEST\n",
       "China       1398.000  14340.00  10.257511    2.810    0.2010   6.0\n",
       "NorthKorea    25.670     28.50   1.110245    1.280    4.9864   6.0\n",
       "Cuba          11.330    100.00   8.826125    0.050    0.4413   6.0\n",
       "Laos           7.169     18.17   2.534524    0.030    0.4185   6.0\n",
       "Vietnam       96.460    261.90   2.715115    0.484    0.5018   6.0\n",
       "World       7900.000  83844.00  10.613165   20.500    0.2595   6.0"
      ]
     },
     "execution_count": 321,
     "metadata": {},
     "output_type": "execute_result"
    }
   ],
   "source": [
    "socdf.rename(columns = str.upper)"
   ]
  },
  {
   "cell_type": "code",
   "execution_count": 323,
   "id": "19364673",
   "metadata": {},
   "outputs": [
    {
     "data": {
      "text/html": [
       "<div>\n",
       "<style scoped>\n",
       "    .dataframe tbody tr th:only-of-type {\n",
       "        vertical-align: middle;\n",
       "    }\n",
       "\n",
       "    .dataframe tbody tr th {\n",
       "        vertical-align: top;\n",
       "    }\n",
       "\n",
       "    .dataframe thead th {\n",
       "        text-align: right;\n",
       "    }\n",
       "</style>\n",
       "<table border=\"1\" class=\"dataframe\">\n",
       "  <thead>\n",
       "    <tr style=\"text-align: right;\">\n",
       "      <th></th>\n",
       "      <th>soc</th>\n",
       "      <th>socgdp</th>\n",
       "      <th>socgdppc</th>\n",
       "      <th>socarmy</th>\n",
       "      <th>socarmy%</th>\n",
       "      <th>test</th>\n",
       "    </tr>\n",
       "  </thead>\n",
       "  <tbody>\n",
       "    <tr>\n",
       "      <th>china</th>\n",
       "      <td>1398.000</td>\n",
       "      <td>14340.00</td>\n",
       "      <td>10.257511</td>\n",
       "      <td>2.810</td>\n",
       "      <td>0.2010</td>\n",
       "      <td>6.0</td>\n",
       "    </tr>\n",
       "    <tr>\n",
       "      <th>northkorea</th>\n",
       "      <td>25.670</td>\n",
       "      <td>28.50</td>\n",
       "      <td>1.110245</td>\n",
       "      <td>1.280</td>\n",
       "      <td>4.9864</td>\n",
       "      <td>6.0</td>\n",
       "    </tr>\n",
       "    <tr>\n",
       "      <th>cuba</th>\n",
       "      <td>11.330</td>\n",
       "      <td>100.00</td>\n",
       "      <td>8.826125</td>\n",
       "      <td>0.050</td>\n",
       "      <td>0.4413</td>\n",
       "      <td>6.0</td>\n",
       "    </tr>\n",
       "    <tr>\n",
       "      <th>laos</th>\n",
       "      <td>7.169</td>\n",
       "      <td>18.17</td>\n",
       "      <td>2.534524</td>\n",
       "      <td>0.030</td>\n",
       "      <td>0.4185</td>\n",
       "      <td>6.0</td>\n",
       "    </tr>\n",
       "    <tr>\n",
       "      <th>vietnam</th>\n",
       "      <td>96.460</td>\n",
       "      <td>261.90</td>\n",
       "      <td>2.715115</td>\n",
       "      <td>0.484</td>\n",
       "      <td>0.5018</td>\n",
       "      <td>6.0</td>\n",
       "    </tr>\n",
       "    <tr>\n",
       "      <th>world</th>\n",
       "      <td>7900.000</td>\n",
       "      <td>83844.00</td>\n",
       "      <td>10.613165</td>\n",
       "      <td>20.500</td>\n",
       "      <td>0.2595</td>\n",
       "      <td>6.0</td>\n",
       "    </tr>\n",
       "  </tbody>\n",
       "</table>\n",
       "</div>"
      ],
      "text/plain": [
       "                 soc    socgdp   socgdppc  socarmy  socarmy%  test\n",
       "china       1398.000  14340.00  10.257511    2.810    0.2010   6.0\n",
       "northkorea    25.670     28.50   1.110245    1.280    4.9864   6.0\n",
       "cuba          11.330    100.00   8.826125    0.050    0.4413   6.0\n",
       "laos           7.169     18.17   2.534524    0.030    0.4185   6.0\n",
       "vietnam       96.460    261.90   2.715115    0.484    0.5018   6.0\n",
       "world       7900.000  83844.00  10.613165   20.500    0.2595   6.0"
      ]
     },
     "execution_count": 323,
     "metadata": {},
     "output_type": "execute_result"
    }
   ],
   "source": [
    "socdf.rename(index = lambda x: x.lower())"
   ]
  },
  {
   "cell_type": "code",
   "execution_count": 326,
   "id": "226b2db8",
   "metadata": {},
   "outputs": [
    {
     "ename": "KeyError",
     "evalue": "\"['test'] not found in axis\"",
     "output_type": "error",
     "traceback": [
      "\u001b[0;31m---------------------------------------------------------------------------\u001b[0m",
      "\u001b[0;31mKeyError\u001b[0m                                  Traceback (most recent call last)",
      "\u001b[0;32m<ipython-input-326-ac6bee055823>\u001b[0m in \u001b[0;36m<module>\u001b[0;34m\u001b[0m\n\u001b[0;32m----> 1\u001b[0;31m \u001b[0msocdf\u001b[0m\u001b[0;34m.\u001b[0m\u001b[0mdrop\u001b[0m\u001b[0;34m(\u001b[0m\u001b[0mcolumns\u001b[0m \u001b[0;34m=\u001b[0m \u001b[0;34m'test'\u001b[0m\u001b[0;34m,\u001b[0m \u001b[0minplace\u001b[0m \u001b[0;34m=\u001b[0m \u001b[0;32mTrue\u001b[0m\u001b[0;34m)\u001b[0m\u001b[0;34m\u001b[0m\u001b[0;34m\u001b[0m\u001b[0m\n\u001b[0m",
      "\u001b[0;32m~/Documents/freecodecamp/venv/lib/python3.9/site-packages/pandas/core/frame.py\u001b[0m in \u001b[0;36mdrop\u001b[0;34m(self, labels, axis, index, columns, level, inplace, errors)\u001b[0m\n\u001b[1;32m   4306\u001b[0m                 \u001b[0mweight\u001b[0m  \u001b[0;36m1.0\u001b[0m     \u001b[0;36m0.8\u001b[0m\u001b[0;34m\u001b[0m\u001b[0;34m\u001b[0m\u001b[0m\n\u001b[1;32m   4307\u001b[0m         \"\"\"\n\u001b[0;32m-> 4308\u001b[0;31m         return super().drop(\n\u001b[0m\u001b[1;32m   4309\u001b[0m             \u001b[0mlabels\u001b[0m\u001b[0;34m=\u001b[0m\u001b[0mlabels\u001b[0m\u001b[0;34m,\u001b[0m\u001b[0;34m\u001b[0m\u001b[0;34m\u001b[0m\u001b[0m\n\u001b[1;32m   4310\u001b[0m             \u001b[0maxis\u001b[0m\u001b[0;34m=\u001b[0m\u001b[0maxis\u001b[0m\u001b[0;34m,\u001b[0m\u001b[0;34m\u001b[0m\u001b[0;34m\u001b[0m\u001b[0m\n",
      "\u001b[0;32m~/Documents/freecodecamp/venv/lib/python3.9/site-packages/pandas/core/generic.py\u001b[0m in \u001b[0;36mdrop\u001b[0;34m(self, labels, axis, index, columns, level, inplace, errors)\u001b[0m\n\u001b[1;32m   4151\u001b[0m         \u001b[0;32mfor\u001b[0m \u001b[0maxis\u001b[0m\u001b[0;34m,\u001b[0m \u001b[0mlabels\u001b[0m \u001b[0;32min\u001b[0m \u001b[0maxes\u001b[0m\u001b[0;34m.\u001b[0m\u001b[0mitems\u001b[0m\u001b[0;34m(\u001b[0m\u001b[0;34m)\u001b[0m\u001b[0;34m:\u001b[0m\u001b[0;34m\u001b[0m\u001b[0;34m\u001b[0m\u001b[0m\n\u001b[1;32m   4152\u001b[0m             \u001b[0;32mif\u001b[0m \u001b[0mlabels\u001b[0m \u001b[0;32mis\u001b[0m \u001b[0;32mnot\u001b[0m \u001b[0;32mNone\u001b[0m\u001b[0;34m:\u001b[0m\u001b[0;34m\u001b[0m\u001b[0;34m\u001b[0m\u001b[0m\n\u001b[0;32m-> 4153\u001b[0;31m                 \u001b[0mobj\u001b[0m \u001b[0;34m=\u001b[0m \u001b[0mobj\u001b[0m\u001b[0;34m.\u001b[0m\u001b[0m_drop_axis\u001b[0m\u001b[0;34m(\u001b[0m\u001b[0mlabels\u001b[0m\u001b[0;34m,\u001b[0m \u001b[0maxis\u001b[0m\u001b[0;34m,\u001b[0m \u001b[0mlevel\u001b[0m\u001b[0;34m=\u001b[0m\u001b[0mlevel\u001b[0m\u001b[0;34m,\u001b[0m \u001b[0merrors\u001b[0m\u001b[0;34m=\u001b[0m\u001b[0merrors\u001b[0m\u001b[0;34m)\u001b[0m\u001b[0;34m\u001b[0m\u001b[0;34m\u001b[0m\u001b[0m\n\u001b[0m\u001b[1;32m   4154\u001b[0m \u001b[0;34m\u001b[0m\u001b[0m\n\u001b[1;32m   4155\u001b[0m         \u001b[0;32mif\u001b[0m \u001b[0minplace\u001b[0m\u001b[0;34m:\u001b[0m\u001b[0;34m\u001b[0m\u001b[0;34m\u001b[0m\u001b[0m\n",
      "\u001b[0;32m~/Documents/freecodecamp/venv/lib/python3.9/site-packages/pandas/core/generic.py\u001b[0m in \u001b[0;36m_drop_axis\u001b[0;34m(self, labels, axis, level, errors)\u001b[0m\n\u001b[1;32m   4186\u001b[0m                 \u001b[0mnew_axis\u001b[0m \u001b[0;34m=\u001b[0m \u001b[0maxis\u001b[0m\u001b[0;34m.\u001b[0m\u001b[0mdrop\u001b[0m\u001b[0;34m(\u001b[0m\u001b[0mlabels\u001b[0m\u001b[0;34m,\u001b[0m \u001b[0mlevel\u001b[0m\u001b[0;34m=\u001b[0m\u001b[0mlevel\u001b[0m\u001b[0;34m,\u001b[0m \u001b[0merrors\u001b[0m\u001b[0;34m=\u001b[0m\u001b[0merrors\u001b[0m\u001b[0;34m)\u001b[0m\u001b[0;34m\u001b[0m\u001b[0;34m\u001b[0m\u001b[0m\n\u001b[1;32m   4187\u001b[0m             \u001b[0;32melse\u001b[0m\u001b[0;34m:\u001b[0m\u001b[0;34m\u001b[0m\u001b[0;34m\u001b[0m\u001b[0m\n\u001b[0;32m-> 4188\u001b[0;31m                 \u001b[0mnew_axis\u001b[0m \u001b[0;34m=\u001b[0m \u001b[0maxis\u001b[0m\u001b[0;34m.\u001b[0m\u001b[0mdrop\u001b[0m\u001b[0;34m(\u001b[0m\u001b[0mlabels\u001b[0m\u001b[0;34m,\u001b[0m \u001b[0merrors\u001b[0m\u001b[0;34m=\u001b[0m\u001b[0merrors\u001b[0m\u001b[0;34m)\u001b[0m\u001b[0;34m\u001b[0m\u001b[0;34m\u001b[0m\u001b[0m\n\u001b[0m\u001b[1;32m   4189\u001b[0m             \u001b[0mresult\u001b[0m \u001b[0;34m=\u001b[0m \u001b[0mself\u001b[0m\u001b[0;34m.\u001b[0m\u001b[0mreindex\u001b[0m\u001b[0;34m(\u001b[0m\u001b[0;34m**\u001b[0m\u001b[0;34m{\u001b[0m\u001b[0maxis_name\u001b[0m\u001b[0;34m:\u001b[0m \u001b[0mnew_axis\u001b[0m\u001b[0;34m}\u001b[0m\u001b[0;34m)\u001b[0m\u001b[0;34m\u001b[0m\u001b[0;34m\u001b[0m\u001b[0m\n\u001b[1;32m   4190\u001b[0m \u001b[0;34m\u001b[0m\u001b[0m\n",
      "\u001b[0;32m~/Documents/freecodecamp/venv/lib/python3.9/site-packages/pandas/core/indexes/base.py\u001b[0m in \u001b[0;36mdrop\u001b[0;34m(self, labels, errors)\u001b[0m\n\u001b[1;32m   5589\u001b[0m         \u001b[0;32mif\u001b[0m \u001b[0mmask\u001b[0m\u001b[0;34m.\u001b[0m\u001b[0many\u001b[0m\u001b[0;34m(\u001b[0m\u001b[0;34m)\u001b[0m\u001b[0;34m:\u001b[0m\u001b[0;34m\u001b[0m\u001b[0;34m\u001b[0m\u001b[0m\n\u001b[1;32m   5590\u001b[0m             \u001b[0;32mif\u001b[0m \u001b[0merrors\u001b[0m \u001b[0;34m!=\u001b[0m \u001b[0;34m\"ignore\"\u001b[0m\u001b[0;34m:\u001b[0m\u001b[0;34m\u001b[0m\u001b[0;34m\u001b[0m\u001b[0m\n\u001b[0;32m-> 5591\u001b[0;31m                 \u001b[0;32mraise\u001b[0m \u001b[0mKeyError\u001b[0m\u001b[0;34m(\u001b[0m\u001b[0;34mf\"{labels[mask]} not found in axis\"\u001b[0m\u001b[0;34m)\u001b[0m\u001b[0;34m\u001b[0m\u001b[0;34m\u001b[0m\u001b[0m\n\u001b[0m\u001b[1;32m   5592\u001b[0m             \u001b[0mindexer\u001b[0m \u001b[0;34m=\u001b[0m \u001b[0mindexer\u001b[0m\u001b[0;34m[\u001b[0m\u001b[0;34m~\u001b[0m\u001b[0mmask\u001b[0m\u001b[0;34m]\u001b[0m\u001b[0;34m\u001b[0m\u001b[0;34m\u001b[0m\u001b[0m\n\u001b[1;32m   5593\u001b[0m         \u001b[0;32mreturn\u001b[0m \u001b[0mself\u001b[0m\u001b[0;34m.\u001b[0m\u001b[0mdelete\u001b[0m\u001b[0;34m(\u001b[0m\u001b[0mindexer\u001b[0m\u001b[0;34m)\u001b[0m\u001b[0;34m\u001b[0m\u001b[0;34m\u001b[0m\u001b[0m\n",
      "\u001b[0;31mKeyError\u001b[0m: \"['test'] not found in axis\""
     ]
    }
   ],
   "source": [
    "socdf.drop(columns = 'test', inplace = True)"
   ]
  },
  {
   "cell_type": "code",
   "execution_count": 327,
   "id": "f6df3820",
   "metadata": {},
   "outputs": [
    {
     "data": {
      "text/html": [
       "<div>\n",
       "<style scoped>\n",
       "    .dataframe tbody tr th:only-of-type {\n",
       "        vertical-align: middle;\n",
       "    }\n",
       "\n",
       "    .dataframe tbody tr th {\n",
       "        vertical-align: top;\n",
       "    }\n",
       "\n",
       "    .dataframe thead th {\n",
       "        text-align: right;\n",
       "    }\n",
       "</style>\n",
       "<table border=\"1\" class=\"dataframe\">\n",
       "  <thead>\n",
       "    <tr style=\"text-align: right;\">\n",
       "      <th></th>\n",
       "      <th>soc</th>\n",
       "      <th>socgdp</th>\n",
       "      <th>socgdppc</th>\n",
       "      <th>socarmy</th>\n",
       "      <th>socarmy%</th>\n",
       "    </tr>\n",
       "  </thead>\n",
       "  <tbody>\n",
       "    <tr>\n",
       "      <th>China</th>\n",
       "      <td>1398.000</td>\n",
       "      <td>14340.00</td>\n",
       "      <td>10.257511</td>\n",
       "      <td>2.810</td>\n",
       "      <td>0.2010</td>\n",
       "    </tr>\n",
       "    <tr>\n",
       "      <th>NorthKorea</th>\n",
       "      <td>25.670</td>\n",
       "      <td>28.50</td>\n",
       "      <td>1.110245</td>\n",
       "      <td>1.280</td>\n",
       "      <td>4.9864</td>\n",
       "    </tr>\n",
       "    <tr>\n",
       "      <th>Cuba</th>\n",
       "      <td>11.330</td>\n",
       "      <td>100.00</td>\n",
       "      <td>8.826125</td>\n",
       "      <td>0.050</td>\n",
       "      <td>0.4413</td>\n",
       "    </tr>\n",
       "    <tr>\n",
       "      <th>Laos</th>\n",
       "      <td>7.169</td>\n",
       "      <td>18.17</td>\n",
       "      <td>2.534524</td>\n",
       "      <td>0.030</td>\n",
       "      <td>0.4185</td>\n",
       "    </tr>\n",
       "    <tr>\n",
       "      <th>Vietnam</th>\n",
       "      <td>96.460</td>\n",
       "      <td>261.90</td>\n",
       "      <td>2.715115</td>\n",
       "      <td>0.484</td>\n",
       "      <td>0.5018</td>\n",
       "    </tr>\n",
       "    <tr>\n",
       "      <th>World</th>\n",
       "      <td>7900.000</td>\n",
       "      <td>83844.00</td>\n",
       "      <td>10.613165</td>\n",
       "      <td>20.500</td>\n",
       "      <td>0.2595</td>\n",
       "    </tr>\n",
       "  </tbody>\n",
       "</table>\n",
       "</div>"
      ],
      "text/plain": [
       "                 soc    socgdp   socgdppc  socarmy  socarmy%\n",
       "China       1398.000  14340.00  10.257511    2.810    0.2010\n",
       "NorthKorea    25.670     28.50   1.110245    1.280    4.9864\n",
       "Cuba          11.330    100.00   8.826125    0.050    0.4413\n",
       "Laos           7.169     18.17   2.534524    0.030    0.4185\n",
       "Vietnam       96.460    261.90   2.715115    0.484    0.5018\n",
       "World       7900.000  83844.00  10.613165   20.500    0.2595"
      ]
     },
     "execution_count": 327,
     "metadata": {},
     "output_type": "execute_result"
    }
   ],
   "source": [
    "socdf"
   ]
  },
  {
   "cell_type": "code",
   "execution_count": null,
   "id": "0f0a4886",
   "metadata": {},
   "outputs": [],
   "source": []
  },
  {
   "cell_type": "code",
   "execution_count": null,
   "id": "8ae9c479",
   "metadata": {},
   "outputs": [],
   "source": []
  }
 ],
 "metadata": {
  "kernelspec": {
   "display_name": "Python 3",
   "language": "python",
   "name": "python3"
  },
  "language_info": {
   "codemirror_mode": {
    "name": "ipython",
    "version": 3
   },
   "file_extension": ".py",
   "mimetype": "text/x-python",
   "name": "python",
   "nbconvert_exporter": "python",
   "pygments_lexer": "ipython3",
   "version": "3.9.5"
  }
 },
 "nbformat": 4,
 "nbformat_minor": 5
}
